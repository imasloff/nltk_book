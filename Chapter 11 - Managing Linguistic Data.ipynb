{
 "cells": [
  {
   "cell_type": "markdown",
   "id": "1a70d40e",
   "metadata": {},
   "source": [
    "# 1   Corpus Structure: a Case Study"
   ]
  },
  {
   "cell_type": "markdown",
   "id": "49d11d9b",
   "metadata": {},
   "source": [
    "## 1.1   The Structure of TIMIT"
   ]
  },
  {
   "cell_type": "code",
   "execution_count": 13,
   "id": "b7b2bf61",
   "metadata": {},
   "outputs": [
    {
     "name": "stdout",
     "output_type": "stream",
     "text": [
      "showing info https://raw.githubusercontent.com/nltk/nltk_data/gh-pages/index.xml\n"
     ]
    },
    {
     "data": {
      "text/plain": [
       "['h#',\n",
       " 'sh',\n",
       " 'iy',\n",
       " 'hv',\n",
       " 'ae',\n",
       " 'dcl',\n",
       " 'y',\n",
       " 'ix',\n",
       " 'dcl',\n",
       " 'd',\n",
       " 'aa',\n",
       " 'kcl',\n",
       " 's',\n",
       " 'ux',\n",
       " 'tcl',\n",
       " 'en',\n",
       " 'gcl',\n",
       " 'g',\n",
       " 'r',\n",
       " 'iy',\n",
       " 's',\n",
       " 'iy',\n",
       " 'w',\n",
       " 'aa',\n",
       " 'sh',\n",
       " 'epi',\n",
       " 'w',\n",
       " 'aa',\n",
       " 'dx',\n",
       " 'ax',\n",
       " 'q',\n",
       " 'ao',\n",
       " 'l',\n",
       " 'y',\n",
       " 'ih',\n",
       " 'ax',\n",
       " 'h#']"
      ]
     },
     "execution_count": 13,
     "metadata": {},
     "output_type": "execute_result"
    }
   ],
   "source": [
    "import nltk\n",
    "nltk.download()\n",
    "phonetic = nltk.corpus.timit.phones('dr1-fvmh0/sa1')\n",
    "phonetic"
   ]
  },
  {
   "cell_type": "code",
   "execution_count": 2,
   "id": "c3b1cd34",
   "metadata": {},
   "outputs": [
    {
     "data": {
      "text/plain": [
       "[('she', 7812, 10610),\n",
       " ('had', 10610, 14496),\n",
       " ('your', 14496, 15791),\n",
       " ('dark', 15791, 20720),\n",
       " ('suit', 20720, 25647),\n",
       " ('in', 25647, 26906),\n",
       " ('greasy', 26906, 32668),\n",
       " ('wash', 32668, 37890),\n",
       " ('water', 38531, 42417),\n",
       " ('all', 43091, 46052),\n",
       " ('year', 46052, 50522)]"
      ]
     },
     "execution_count": 2,
     "metadata": {},
     "output_type": "execute_result"
    }
   ],
   "source": [
    "nltk.corpus.timit.word_times('dr1-fvmh0/sa1')"
   ]
  },
  {
   "cell_type": "code",
   "execution_count": 3,
   "id": "70b25e2a",
   "metadata": {},
   "outputs": [
    {
     "data": {
      "text/plain": [
       "['g', 'r', 'iy1', 's', 'iy', 'w', 'ao1', 'sh', 'w', 'ao1', 't', 'axr']"
      ]
     },
     "execution_count": 3,
     "metadata": {},
     "output_type": "execute_result"
    }
   ],
   "source": [
    "timitdict = nltk.corpus.timit.transcription_dict()\n",
    "timitdict['greasy'] + timitdict['wash'] + timitdict['water']"
   ]
  },
  {
   "cell_type": "code",
   "execution_count": 4,
   "id": "46eb4428",
   "metadata": {},
   "outputs": [
    {
     "data": {
      "text/plain": [
       "['g', 'r', 'iy', 's', 'iy', 'w', 'aa', 'sh', 'epi', 'w', 'aa', 'dx', 'ax']"
      ]
     },
     "execution_count": 4,
     "metadata": {},
     "output_type": "execute_result"
    }
   ],
   "source": [
    "phonetic[17:30]"
   ]
  },
  {
   "cell_type": "code",
   "execution_count": 5,
   "id": "785b69aa",
   "metadata": {},
   "outputs": [
    {
     "data": {
      "text/plain": [
       "SpeakerInfo(id='VMH0', sex='F', dr='1', use='TRN', recdate='03/11/86', birthdate='01/08/60', ht='5\\'05\"', race='WHT', edu='BS', comments='BEST NEW ENGLAND ACCENT SO FAR')"
      ]
     },
     "execution_count": 5,
     "metadata": {},
     "output_type": "execute_result"
    }
   ],
   "source": [
    "nltk.corpus.timit.spkrinfo('dr1-fvmh0')"
   ]
  },
  {
   "cell_type": "markdown",
   "id": "503804a1",
   "metadata": {},
   "source": [
    "## 1.2   Notable Design Features"
   ]
  },
  {
   "cell_type": "markdown",
   "id": "6b368ef0",
   "metadata": {},
   "source": [
    "## 1.3   Fundamental Data Types"
   ]
  },
  {
   "cell_type": "markdown",
   "id": "94522b2a",
   "metadata": {},
   "source": [
    "# 2   The Life-Cycle of a Corpus"
   ]
  },
  {
   "cell_type": "markdown",
   "id": "e7459bea",
   "metadata": {},
   "source": [
    "## 2.1   Three Corpus Creation Scenarios"
   ]
  },
  {
   "cell_type": "markdown",
   "id": "158d98c0",
   "metadata": {},
   "source": [
    "## 2.2   Quality Control"
   ]
  },
  {
   "cell_type": "code",
   "execution_count": 6,
   "id": "8d127e5b",
   "metadata": {},
   "outputs": [
    {
     "data": {
      "text/plain": [
       "0.0"
      ]
     },
     "execution_count": 6,
     "metadata": {},
     "output_type": "execute_result"
    }
   ],
   "source": [
    "s1 = \"00000010000000001000000\"\n",
    "s2 = \"00000001000000010000000\"\n",
    "s3 = \"00010000000000000001000\"\n",
    "nltk.windowdiff(s1, s1, 3)"
   ]
  },
  {
   "cell_type": "code",
   "execution_count": 7,
   "id": "23f6efd3",
   "metadata": {},
   "outputs": [
    {
     "data": {
      "text/plain": [
       "0.19047619047619047"
      ]
     },
     "execution_count": 7,
     "metadata": {},
     "output_type": "execute_result"
    }
   ],
   "source": [
    "nltk.windowdiff(s1, s2, 3)"
   ]
  },
  {
   "cell_type": "code",
   "execution_count": 8,
   "id": "24471cf9",
   "metadata": {},
   "outputs": [
    {
     "data": {
      "text/plain": [
       "0.5714285714285714"
      ]
     },
     "execution_count": 8,
     "metadata": {},
     "output_type": "execute_result"
    }
   ],
   "source": [
    "nltk.windowdiff(s2, s3, 3)"
   ]
  },
  {
   "cell_type": "markdown",
   "id": "03304d98",
   "metadata": {},
   "source": [
    "## 2.3   Curation vs Evolution"
   ]
  },
  {
   "cell_type": "markdown",
   "id": "0c7b770f",
   "metadata": {},
   "source": [
    "# 3   Acquiring Data"
   ]
  },
  {
   "cell_type": "markdown",
   "id": "e0a63615",
   "metadata": {},
   "source": [
    "## 3.1   Obtaining Data from the Web"
   ]
  },
  {
   "cell_type": "markdown",
   "id": "e63c3730",
   "metadata": {},
   "source": [
    "## 3.2   Obtaining Data from Word Processor Files"
   ]
  },
  {
   "cell_type": "code",
   "execution_count": 10,
   "id": "da402720",
   "metadata": {},
   "outputs": [
    {
     "ename": "FileNotFoundError",
     "evalue": "[Errno 2] No such file or directory: 'dict.htm'",
     "output_type": "error",
     "traceback": [
      "\u001b[1;31m---------------------------------------------------------------------------\u001b[0m",
      "\u001b[1;31mFileNotFoundError\u001b[0m                         Traceback (most recent call last)",
      "\u001b[1;32m<ipython-input-10-5cbfd38bc871>\u001b[0m in \u001b[0;36m<module>\u001b[1;34m\u001b[0m\n\u001b[0;32m      2\u001b[0m \u001b[0mlegal_pos\u001b[0m \u001b[1;33m=\u001b[0m \u001b[0mset\u001b[0m\u001b[1;33m(\u001b[0m\u001b[1;33m[\u001b[0m\u001b[1;34m'n'\u001b[0m\u001b[1;33m,\u001b[0m \u001b[1;34m'v.t.'\u001b[0m\u001b[1;33m,\u001b[0m \u001b[1;34m'v.i.'\u001b[0m\u001b[1;33m,\u001b[0m \u001b[1;34m'adj'\u001b[0m\u001b[1;33m,\u001b[0m \u001b[1;34m'det'\u001b[0m\u001b[1;33m]\u001b[0m\u001b[1;33m)\u001b[0m\u001b[1;33m\u001b[0m\u001b[1;33m\u001b[0m\u001b[0m\n\u001b[0;32m      3\u001b[0m \u001b[0mpattern\u001b[0m \u001b[1;33m=\u001b[0m \u001b[0mre\u001b[0m\u001b[1;33m.\u001b[0m\u001b[0mcompile\u001b[0m\u001b[1;33m(\u001b[0m\u001b[1;34mr\"'font-size:11.0pt'>([a-z.]+)<\"\u001b[0m\u001b[1;33m)\u001b[0m\u001b[1;33m\u001b[0m\u001b[1;33m\u001b[0m\u001b[0m\n\u001b[1;32m----> 4\u001b[1;33m \u001b[0mdocument\u001b[0m \u001b[1;33m=\u001b[0m \u001b[0mopen\u001b[0m\u001b[1;33m(\u001b[0m\u001b[1;34m\"dict.htm\"\u001b[0m\u001b[1;33m,\u001b[0m \u001b[0mencoding\u001b[0m\u001b[1;33m=\u001b[0m\u001b[1;34m\"windows-1252\"\u001b[0m\u001b[1;33m)\u001b[0m\u001b[1;33m.\u001b[0m\u001b[0mread\u001b[0m\u001b[1;33m(\u001b[0m\u001b[1;33m)\u001b[0m\u001b[1;33m\u001b[0m\u001b[1;33m\u001b[0m\u001b[0m\n\u001b[0m\u001b[0;32m      5\u001b[0m \u001b[0mused_pos\u001b[0m \u001b[1;33m=\u001b[0m \u001b[0mset\u001b[0m\u001b[1;33m(\u001b[0m\u001b[0mre\u001b[0m\u001b[1;33m.\u001b[0m\u001b[0mfindall\u001b[0m\u001b[1;33m(\u001b[0m\u001b[0mpattern\u001b[0m\u001b[1;33m,\u001b[0m \u001b[0mdocument\u001b[0m\u001b[1;33m)\u001b[0m\u001b[1;33m)\u001b[0m\u001b[1;33m\u001b[0m\u001b[1;33m\u001b[0m\u001b[0m\n\u001b[0;32m      6\u001b[0m \u001b[0millegal_pos\u001b[0m \u001b[1;33m=\u001b[0m \u001b[0mused_pos\u001b[0m\u001b[1;33m.\u001b[0m\u001b[0mdifference\u001b[0m\u001b[1;33m(\u001b[0m\u001b[0mlegal_pos\u001b[0m\u001b[1;33m)\u001b[0m\u001b[1;33m\u001b[0m\u001b[1;33m\u001b[0m\u001b[0m\n",
      "\u001b[1;31mFileNotFoundError\u001b[0m: [Errno 2] No such file or directory: 'dict.htm'"
     ]
    }
   ],
   "source": [
    "import re\n",
    "legal_pos = set(['n', 'v.t.', 'v.i.', 'adj', 'det'])\n",
    "pattern = re.compile(r\"'font-size:11.0pt'>([a-z.]+)<\")\n",
    "document = open(\"dict.htm\", encoding=\"windows-1252\").read()\n",
    "used_pos = set(re.findall(pattern, document))\n",
    "illegal_pos = used_pos.difference(legal_pos)\n",
    "print(list(illegal_pos))"
   ]
  },
  {
   "cell_type": "code",
   "execution_count": 11,
   "id": "b2a6a906",
   "metadata": {},
   "outputs": [],
   "source": [
    "from bs4 import BeautifulSoup\n",
    "\n",
    "def lexical_data(html_file, encoding=\"utf-8\"):\n",
    "    SEP = '_ENTRY'\n",
    "    html = open(html_file, encoding=encoding).read()\n",
    "    html = re.sub(r'<p', SEP + '<p', html)\n",
    "    text = BeautifulSoup(html, 'html.parser').get_text()\n",
    "    text = ' '.join(text.split())\n",
    "    for entry in text.split(SEP):\n",
    "        if entry.count(' ') > 2:\n",
    "            yield entry.split(' ', 3)"
   ]
  },
  {
   "cell_type": "code",
   "execution_count": 14,
   "id": "bb5a6964",
   "metadata": {},
   "outputs": [
    {
     "ename": "FileNotFoundError",
     "evalue": "[Errno 2] No such file or directory: 'dict.htm'",
     "output_type": "error",
     "traceback": [
      "\u001b[1;31m---------------------------------------------------------------------------\u001b[0m",
      "\u001b[1;31mFileNotFoundError\u001b[0m                         Traceback (most recent call last)",
      "\u001b[1;32m<ipython-input-14-dbbdde5135e0>\u001b[0m in \u001b[0;36m<module>\u001b[1;34m\u001b[0m\n\u001b[0;32m      1\u001b[0m \u001b[1;32mimport\u001b[0m \u001b[0mcsv\u001b[0m\u001b[1;33m\u001b[0m\u001b[1;33m\u001b[0m\u001b[0m\n\u001b[0;32m      2\u001b[0m \u001b[0mwriter\u001b[0m \u001b[1;33m=\u001b[0m \u001b[0mcsv\u001b[0m\u001b[1;33m.\u001b[0m\u001b[0mwriter\u001b[0m\u001b[1;33m(\u001b[0m\u001b[0mopen\u001b[0m\u001b[1;33m(\u001b[0m\u001b[1;34m\"dict1.csv\"\u001b[0m\u001b[1;33m,\u001b[0m \u001b[1;34m\"w\"\u001b[0m\u001b[1;33m,\u001b[0m \u001b[0mencoding\u001b[0m\u001b[1;33m=\u001b[0m\u001b[1;34m\"utf-8\"\u001b[0m\u001b[1;33m)\u001b[0m\u001b[1;33m)\u001b[0m\u001b[1;33m\u001b[0m\u001b[1;33m\u001b[0m\u001b[0m\n\u001b[1;32m----> 3\u001b[1;33m \u001b[0mwriter\u001b[0m\u001b[1;33m.\u001b[0m\u001b[0mwriterows\u001b[0m\u001b[1;33m(\u001b[0m\u001b[0mlexical_data\u001b[0m\u001b[1;33m(\u001b[0m\u001b[1;34m\"dict.htm\"\u001b[0m\u001b[1;33m,\u001b[0m \u001b[0mencoding\u001b[0m\u001b[1;33m=\u001b[0m\u001b[1;34m\"windows-1252\"\u001b[0m\u001b[1;33m)\u001b[0m\u001b[1;33m)\u001b[0m\u001b[1;33m\u001b[0m\u001b[1;33m\u001b[0m\u001b[0m\n\u001b[0m",
      "\u001b[1;32m<ipython-input-11-8c7d2533f990>\u001b[0m in \u001b[0;36mlexical_data\u001b[1;34m(html_file, encoding)\u001b[0m\n\u001b[0;32m      3\u001b[0m \u001b[1;32mdef\u001b[0m \u001b[0mlexical_data\u001b[0m\u001b[1;33m(\u001b[0m\u001b[0mhtml_file\u001b[0m\u001b[1;33m,\u001b[0m \u001b[0mencoding\u001b[0m\u001b[1;33m=\u001b[0m\u001b[1;34m\"utf-8\"\u001b[0m\u001b[1;33m)\u001b[0m\u001b[1;33m:\u001b[0m\u001b[1;33m\u001b[0m\u001b[1;33m\u001b[0m\u001b[0m\n\u001b[0;32m      4\u001b[0m     \u001b[0mSEP\u001b[0m \u001b[1;33m=\u001b[0m \u001b[1;34m'_ENTRY'\u001b[0m\u001b[1;33m\u001b[0m\u001b[1;33m\u001b[0m\u001b[0m\n\u001b[1;32m----> 5\u001b[1;33m     \u001b[0mhtml\u001b[0m \u001b[1;33m=\u001b[0m \u001b[0mopen\u001b[0m\u001b[1;33m(\u001b[0m\u001b[0mhtml_file\u001b[0m\u001b[1;33m,\u001b[0m \u001b[0mencoding\u001b[0m\u001b[1;33m=\u001b[0m\u001b[0mencoding\u001b[0m\u001b[1;33m)\u001b[0m\u001b[1;33m.\u001b[0m\u001b[0mread\u001b[0m\u001b[1;33m(\u001b[0m\u001b[1;33m)\u001b[0m\u001b[1;33m\u001b[0m\u001b[1;33m\u001b[0m\u001b[0m\n\u001b[0m\u001b[0;32m      6\u001b[0m     \u001b[0mhtml\u001b[0m \u001b[1;33m=\u001b[0m \u001b[0mre\u001b[0m\u001b[1;33m.\u001b[0m\u001b[0msub\u001b[0m\u001b[1;33m(\u001b[0m\u001b[1;34mr'<p'\u001b[0m\u001b[1;33m,\u001b[0m \u001b[0mSEP\u001b[0m \u001b[1;33m+\u001b[0m \u001b[1;34m'<p'\u001b[0m\u001b[1;33m,\u001b[0m \u001b[0mhtml\u001b[0m\u001b[1;33m)\u001b[0m\u001b[1;33m\u001b[0m\u001b[1;33m\u001b[0m\u001b[0m\n\u001b[0;32m      7\u001b[0m     \u001b[0mtext\u001b[0m \u001b[1;33m=\u001b[0m \u001b[0mBeautifulSoup\u001b[0m\u001b[1;33m(\u001b[0m\u001b[0mhtml\u001b[0m\u001b[1;33m,\u001b[0m \u001b[1;34m'html.parser'\u001b[0m\u001b[1;33m)\u001b[0m\u001b[1;33m.\u001b[0m\u001b[0mget_text\u001b[0m\u001b[1;33m(\u001b[0m\u001b[1;33m)\u001b[0m\u001b[1;33m\u001b[0m\u001b[1;33m\u001b[0m\u001b[0m\n",
      "\u001b[1;31mFileNotFoundError\u001b[0m: [Errno 2] No such file or directory: 'dict.htm'"
     ]
    }
   ],
   "source": [
    "import csv\n",
    "writer = csv.writer(open(\"dict1.csv\", \"w\", encoding=\"utf-8\"))\n",
    "writer.writerows(lexical_data(\"dict.htm\", encoding=\"windows-1252\"))"
   ]
  },
  {
   "cell_type": "markdown",
   "id": "62fc3b19",
   "metadata": {},
   "source": [
    "## 3.3   Obtaining Data from Spreadsheets and Databases"
   ]
  },
  {
   "cell_type": "code",
   "execution_count": 15,
   "id": "eb4bff7c",
   "metadata": {},
   "outputs": [
    {
     "ename": "FileNotFoundError",
     "evalue": "[Errno 2] No such file or directory: 'dict.csv'",
     "output_type": "error",
     "traceback": [
      "\u001b[1;31m---------------------------------------------------------------------------\u001b[0m",
      "\u001b[1;31mFileNotFoundError\u001b[0m                         Traceback (most recent call last)",
      "\u001b[1;32m<ipython-input-15-03831ab98231>\u001b[0m in \u001b[0;36m<module>\u001b[1;34m\u001b[0m\n\u001b[0;32m      1\u001b[0m \u001b[1;32mimport\u001b[0m \u001b[0mcsv\u001b[0m\u001b[1;33m\u001b[0m\u001b[1;33m\u001b[0m\u001b[0m\n\u001b[1;32m----> 2\u001b[1;33m \u001b[0mlexicon\u001b[0m \u001b[1;33m=\u001b[0m \u001b[0mcsv\u001b[0m\u001b[1;33m.\u001b[0m\u001b[0mreader\u001b[0m\u001b[1;33m(\u001b[0m\u001b[0mopen\u001b[0m\u001b[1;33m(\u001b[0m\u001b[1;34m'dict.csv'\u001b[0m\u001b[1;33m)\u001b[0m\u001b[1;33m)\u001b[0m\u001b[1;33m\u001b[0m\u001b[1;33m\u001b[0m\u001b[0m\n\u001b[0m\u001b[0;32m      3\u001b[0m \u001b[0mpairs\u001b[0m \u001b[1;33m=\u001b[0m \u001b[1;33m[\u001b[0m\u001b[1;33m(\u001b[0m\u001b[0mlexeme\u001b[0m\u001b[1;33m,\u001b[0m \u001b[0mdefn\u001b[0m\u001b[1;33m)\u001b[0m \u001b[1;32mfor\u001b[0m \u001b[1;33m(\u001b[0m\u001b[0mlexeme\u001b[0m\u001b[1;33m,\u001b[0m \u001b[0m_\u001b[0m\u001b[1;33m,\u001b[0m \u001b[0m_\u001b[0m\u001b[1;33m,\u001b[0m \u001b[0mdefn\u001b[0m\u001b[1;33m)\u001b[0m \u001b[1;32min\u001b[0m \u001b[0mlexicon\u001b[0m\u001b[1;33m]\u001b[0m\u001b[1;33m\u001b[0m\u001b[1;33m\u001b[0m\u001b[0m\n\u001b[0;32m      4\u001b[0m \u001b[0mlexemes\u001b[0m\u001b[1;33m,\u001b[0m \u001b[0mdefns\u001b[0m \u001b[1;33m=\u001b[0m \u001b[0mzip\u001b[0m\u001b[1;33m(\u001b[0m\u001b[1;33m*\u001b[0m\u001b[0mpairs\u001b[0m\u001b[1;33m)\u001b[0m\u001b[1;33m\u001b[0m\u001b[1;33m\u001b[0m\u001b[0m\n\u001b[0;32m      5\u001b[0m \u001b[0mdefn_words\u001b[0m \u001b[1;33m=\u001b[0m \u001b[0mset\u001b[0m\u001b[1;33m(\u001b[0m\u001b[0mw\u001b[0m \u001b[1;32mfor\u001b[0m \u001b[0mdefn\u001b[0m \u001b[1;32min\u001b[0m \u001b[0mdefns\u001b[0m \u001b[1;32mfor\u001b[0m \u001b[0mw\u001b[0m \u001b[1;32min\u001b[0m \u001b[0mdefn\u001b[0m\u001b[1;33m.\u001b[0m\u001b[0msplit\u001b[0m\u001b[1;33m(\u001b[0m\u001b[1;33m)\u001b[0m\u001b[1;33m)\u001b[0m\u001b[1;33m\u001b[0m\u001b[1;33m\u001b[0m\u001b[0m\n",
      "\u001b[1;31mFileNotFoundError\u001b[0m: [Errno 2] No such file or directory: 'dict.csv'"
     ]
    }
   ],
   "source": [
    "import csv\n",
    "lexicon = csv.reader(open('dict.csv'))\n",
    "pairs = [(lexeme, defn) for (lexeme, _, _, defn) in lexicon]\n",
    "lexemes, defns = zip(*pairs)\n",
    "defn_words = set(w for defn in defns for w in defn.split())\n",
    "sorted(defn_words.difference(lexemes))"
   ]
  },
  {
   "cell_type": "markdown",
   "id": "c7146cc2",
   "metadata": {},
   "source": [
    "## 3.4   Converting Data Formats"
   ]
  },
  {
   "cell_type": "code",
   "execution_count": 17,
   "id": "bb0c1b2a",
   "metadata": {},
   "outputs": [
    {
     "ename": "NameError",
     "evalue": "name 'pairs' is not defined",
     "output_type": "error",
     "traceback": [
      "\u001b[1;31m---------------------------------------------------------------------------\u001b[0m",
      "\u001b[1;31mNameError\u001b[0m                                 Traceback (most recent call last)",
      "\u001b[1;32m<ipython-input-17-5b756d91e1e2>\u001b[0m in \u001b[0;36m<module>\u001b[1;34m\u001b[0m\n\u001b[0;32m      1\u001b[0m idx = nltk.Index((defn_word, lexeme)\n\u001b[1;32m----> 2\u001b[1;33m                  \u001b[1;32mfor\u001b[0m \u001b[1;33m(\u001b[0m\u001b[0mlexeme\u001b[0m\u001b[1;33m,\u001b[0m \u001b[0mdefn\u001b[0m\u001b[1;33m)\u001b[0m \u001b[1;32min\u001b[0m \u001b[0mpairs\u001b[0m\u001b[1;33m\u001b[0m\u001b[1;33m\u001b[0m\u001b[0m\n\u001b[0m\u001b[0;32m      3\u001b[0m                  \u001b[1;32mfor\u001b[0m \u001b[0mdefn_word\u001b[0m \u001b[1;32min\u001b[0m \u001b[0mnltk\u001b[0m\u001b[1;33m.\u001b[0m\u001b[0mword_tokenize\u001b[0m\u001b[1;33m(\u001b[0m\u001b[0mdefn\u001b[0m\u001b[1;33m)\u001b[0m\u001b[1;33m\u001b[0m\u001b[1;33m\u001b[0m\u001b[0m\n\u001b[0;32m      4\u001b[0m                  if len(defn_word) > 3)\n\u001b[0;32m      5\u001b[0m \u001b[1;32mwith\u001b[0m \u001b[0mopen\u001b[0m\u001b[1;33m(\u001b[0m\u001b[1;34m\"dict.idx\"\u001b[0m\u001b[1;33m,\u001b[0m \u001b[1;34m\"w\"\u001b[0m\u001b[1;33m)\u001b[0m \u001b[1;32mas\u001b[0m \u001b[0midx_file\u001b[0m\u001b[1;33m:\u001b[0m\u001b[1;33m\u001b[0m\u001b[1;33m\u001b[0m\u001b[0m\n",
      "\u001b[1;31mNameError\u001b[0m: name 'pairs' is not defined"
     ]
    }
   ],
   "source": [
    "idx = nltk.Index((defn_word, lexeme)\n",
    "                 for (lexeme, defn) in pairs\n",
    "                 for defn_word in nltk.word_tokenize(defn)\n",
    "                 if len(defn_word) > 3)\n",
    "with open(\"dict.idx\", \"w\") as idx_file:\n",
    "    for word in sorted(idx):\n",
    "        idx_words = ', '.join(idx[word])\n",
    "        idx_line = \"{}: {}\".format(word, idx_words)\n",
    "        print(idx_line, file=idx_file)"
   ]
  },
  {
   "cell_type": "markdown",
   "id": "1a4169c8",
   "metadata": {},
   "source": [
    "## 3.5   Deciding Which Layers of Annotation to Include"
   ]
  },
  {
   "cell_type": "markdown",
   "id": "26becb5d",
   "metadata": {},
   "source": [
    "## 3.6   Standards and Tools"
   ]
  },
  {
   "cell_type": "markdown",
   "id": "07951e27",
   "metadata": {},
   "source": [
    "## 3.7   Special Considerations when Working with Endangered Languages"
   ]
  },
  {
   "cell_type": "code",
   "execution_count": 18,
   "id": "5fe39585",
   "metadata": {},
   "outputs": [
    {
     "data": {
      "text/plain": [
       "'lfnt'"
      ]
     },
     "execution_count": 18,
     "metadata": {},
     "output_type": "execute_result"
    }
   ],
   "source": [
    "mappings = [('ph', 'f'), ('ght', 't'), ('^kn', 'n'), ('qu', 'kw'),\n",
    "            ('[aeiou]+', 'a'), (r'(.)\\1', r'\\1')]\n",
    "def signature(word):\n",
    "    for patt, repl in mappings:\n",
    "        word = re.sub(patt, repl, word)\n",
    "    pieces = re.findall('[^aeiou]+', word)\n",
    "    return ''.join(char for piece in pieces for char in sorted(piece))[:8]\n",
    "signature('illefent')"
   ]
  },
  {
   "cell_type": "code",
   "execution_count": 19,
   "id": "d0676b1a",
   "metadata": {},
   "outputs": [
    {
     "data": {
      "text/plain": [
       "'bskws'"
      ]
     },
     "execution_count": 19,
     "metadata": {},
     "output_type": "execute_result"
    }
   ],
   "source": [
    "signature('ebsekwieous')"
   ]
  },
  {
   "cell_type": "code",
   "execution_count": 20,
   "id": "e71c761d",
   "metadata": {},
   "outputs": [
    {
     "data": {
      "text/plain": [
       "'nclr'"
      ]
     },
     "execution_count": 20,
     "metadata": {},
     "output_type": "execute_result"
    }
   ],
   "source": [
    "signature('nuculerr')"
   ]
  },
  {
   "cell_type": "code",
   "execution_count": 21,
   "id": "dd36db12",
   "metadata": {},
   "outputs": [
    {
     "data": {
      "text/plain": [
       "['anicular',\n",
       " 'inocular',\n",
       " 'nucellar',\n",
       " 'nuclear',\n",
       " 'unicolor',\n",
       " 'uniocular',\n",
       " 'unocular']"
      ]
     },
     "execution_count": 21,
     "metadata": {},
     "output_type": "execute_result"
    }
   ],
   "source": [
    "signatures = nltk.Index((signature(w), w) for w in nltk.corpus.words.words())\n",
    "signatures[signature('nuculerr')]"
   ]
  },
  {
   "cell_type": "code",
   "execution_count": 22,
   "id": "9670ce3d",
   "metadata": {},
   "outputs": [
    {
     "data": {
      "text/plain": [
       "['olefiant', 'elephant', 'oliphant', 'elephanta']"
      ]
     },
     "execution_count": 22,
     "metadata": {},
     "output_type": "execute_result"
    }
   ],
   "source": [
    "def rank(word, wordlist):\n",
    "    ranked = sorted((nltk.edit_distance(word, w), w) for w in wordlist)\n",
    "    return [word for (_, word) in ranked]\n",
    "def fuzzy_spell(word):\n",
    "    sig = signature(word)\n",
    "    if sig in signatures:\n",
    "        return rank(word, signatures[sig])\n",
    "    else:\n",
    "        return []\n",
    "fuzzy_spell('illefent')"
   ]
  },
  {
   "cell_type": "code",
   "execution_count": 23,
   "id": "f128f5c0",
   "metadata": {},
   "outputs": [
    {
     "data": {
      "text/plain": [
       "['obsequious']"
      ]
     },
     "execution_count": 23,
     "metadata": {},
     "output_type": "execute_result"
    }
   ],
   "source": [
    "fuzzy_spell('ebsekwieous')"
   ]
  },
  {
   "cell_type": "code",
   "execution_count": 24,
   "id": "b7150dba",
   "metadata": {},
   "outputs": [
    {
     "data": {
      "text/plain": [
       "['anicular',\n",
       " 'inocular',\n",
       " 'nucellar',\n",
       " 'nuclear',\n",
       " 'unocular',\n",
       " 'uniocular',\n",
       " 'unicolor']"
      ]
     },
     "execution_count": 24,
     "metadata": {},
     "output_type": "execute_result"
    }
   ],
   "source": [
    "fuzzy_spell('nucular')"
   ]
  },
  {
   "cell_type": "markdown",
   "id": "43951458",
   "metadata": {},
   "source": [
    "# 4   Working with XML"
   ]
  },
  {
   "cell_type": "markdown",
   "id": "face2945",
   "metadata": {},
   "source": [
    "## 4.1   Using XML for Linguistic Structures"
   ]
  },
  {
   "cell_type": "markdown",
   "id": "205bbd09",
   "metadata": {},
   "source": [
    "## 4.2   The Role of XML"
   ]
  },
  {
   "cell_type": "markdown",
   "id": "9bf5389b",
   "metadata": {},
   "source": [
    "## 4.3   The ElementTree Interface"
   ]
  },
  {
   "cell_type": "code",
   "execution_count": 30,
   "id": "923fc5d0",
   "metadata": {},
   "outputs": [
    {
     "name": "stdout",
     "output_type": "stream",
     "text": [
      "<?xml version=\"1.0\"?>\n",
      "<?xml-stylesheet type=\"text/css\" href=\"shakes.css\"?>\n",
      "<!-- <!DOCTYPE PLAY SYSTEM \"play.dtd\"> -->\n",
      "\n",
      "<PLAY>\n",
      "<TITLE>The Merchant of Venice</TITLE>\n"
     ]
    }
   ],
   "source": [
    "merchant_file = nltk.data.find('corpora/shakespeare/merchant.xml')\n",
    "raw = open(merchant_file).read()\n",
    "print(raw[:163])"
   ]
  },
  {
   "cell_type": "code",
   "execution_count": 31,
   "id": "070de7b5",
   "metadata": {},
   "outputs": [
    {
     "name": "stdout",
     "output_type": "stream",
     "text": [
      "<TITLE>ACT I</TITLE>\n",
      "\n",
      "<SCENE><TITLE>SCENE I.  Venice. A street.</TITLE>\n",
      "<STAGEDIR>Enter ANTONIO, SALARINO, and SALANIO</STAGEDIR>\n",
      "\n",
      "<SPEECH>\n",
      "<SPEAKER>ANTONIO</SPEAKER>\n",
      "<LINE>In sooth, I know not why I am so sad:</LINE>\n"
     ]
    }
   ],
   "source": [
    "print(raw[1789:2006])"
   ]
  },
  {
   "cell_type": "code",
   "execution_count": 32,
   "id": "19cb3b4a",
   "metadata": {},
   "outputs": [
    {
     "data": {
      "text/plain": [
       "<Element 'PLAY' at 0x00000205B7DEF130>"
      ]
     },
     "execution_count": 32,
     "metadata": {},
     "output_type": "execute_result"
    }
   ],
   "source": [
    "from xml.etree.ElementTree import ElementTree\n",
    "merchant = ElementTree().parse(merchant_file)\n",
    "merchant"
   ]
  },
  {
   "cell_type": "code",
   "execution_count": 33,
   "id": "618a0a3a",
   "metadata": {},
   "outputs": [
    {
     "data": {
      "text/plain": [
       "<Element 'TITLE' at 0x00000205B7DEA6D0>"
      ]
     },
     "execution_count": 33,
     "metadata": {},
     "output_type": "execute_result"
    }
   ],
   "source": [
    "merchant[0]"
   ]
  },
  {
   "cell_type": "code",
   "execution_count": 34,
   "id": "629b4c43",
   "metadata": {},
   "outputs": [
    {
     "data": {
      "text/plain": [
       "'The Merchant of Venice'"
      ]
     },
     "execution_count": 34,
     "metadata": {},
     "output_type": "execute_result"
    }
   ],
   "source": [
    "merchant[0].text"
   ]
  },
  {
   "cell_type": "code",
   "execution_count": 35,
   "id": "11f81ab3",
   "metadata": {},
   "outputs": [
    {
     "name": "stderr",
     "output_type": "stream",
     "text": [
      "<ipython-input-35-5257cbb863c5>:1: DeprecationWarning: This method will be removed in future versions.  Use 'list(elem)' or iteration over elem instead.\n",
      "  merchant.getchildren()\n"
     ]
    },
    {
     "data": {
      "text/plain": [
       "[<Element 'TITLE' at 0x00000205B7DEA6D0>,\n",
       " <Element 'PERSONAE' at 0x00000205B7DEA770>,\n",
       " <Element 'SCNDESCR' at 0x00000205B387E680>,\n",
       " <Element 'PLAYSUBT' at 0x00000205B387E220>,\n",
       " <Element 'ACT' at 0x00000205B387E360>,\n",
       " <Element 'ACT' at 0x00000205B258C220>,\n",
       " <Element 'ACT' at 0x00000205B25B14A0>,\n",
       " <Element 'ACT' at 0x00000205B2639720>,\n",
       " <Element 'ACT' at 0x00000205B2654720>]"
      ]
     },
     "execution_count": 35,
     "metadata": {},
     "output_type": "execute_result"
    }
   ],
   "source": [
    "merchant.getchildren()"
   ]
  },
  {
   "cell_type": "code",
   "execution_count": 36,
   "id": "bbcb763a",
   "metadata": {},
   "outputs": [
    {
     "data": {
      "text/plain": [
       "'ACT IV'"
      ]
     },
     "execution_count": 36,
     "metadata": {},
     "output_type": "execute_result"
    }
   ],
   "source": [
    "merchant[-2][0].text"
   ]
  },
  {
   "cell_type": "code",
   "execution_count": 37,
   "id": "db666dba",
   "metadata": {},
   "outputs": [
    {
     "data": {
      "text/plain": [
       "<Element 'SCENE' at 0x00000205B26397C0>"
      ]
     },
     "execution_count": 37,
     "metadata": {},
     "output_type": "execute_result"
    }
   ],
   "source": [
    "merchant[-2][1]"
   ]
  },
  {
   "cell_type": "code",
   "execution_count": 38,
   "id": "9d137c32",
   "metadata": {},
   "outputs": [
    {
     "data": {
      "text/plain": [
       "'SCENE I.  Venice. A court of justice.'"
      ]
     },
     "execution_count": 38,
     "metadata": {},
     "output_type": "execute_result"
    }
   ],
   "source": [
    "merchant[-2][1][0].text"
   ]
  },
  {
   "cell_type": "code",
   "execution_count": 39,
   "id": "77fd2714",
   "metadata": {},
   "outputs": [
    {
     "data": {
      "text/plain": [
       "<Element 'SPEECH' at 0x00000205B263EB30>"
      ]
     },
     "execution_count": 39,
     "metadata": {},
     "output_type": "execute_result"
    }
   ],
   "source": [
    "merchant[-2][1][54]"
   ]
  },
  {
   "cell_type": "code",
   "execution_count": 40,
   "id": "d6ab7efd",
   "metadata": {},
   "outputs": [
    {
     "data": {
      "text/plain": [
       "<Element 'SPEAKER' at 0x00000205B263EB80>"
      ]
     },
     "execution_count": 40,
     "metadata": {},
     "output_type": "execute_result"
    }
   ],
   "source": [
    "merchant[-2][1][54][0]"
   ]
  },
  {
   "cell_type": "code",
   "execution_count": 41,
   "id": "e63180bf",
   "metadata": {},
   "outputs": [
    {
     "data": {
      "text/plain": [
       "'PORTIA'"
      ]
     },
     "execution_count": 41,
     "metadata": {},
     "output_type": "execute_result"
    }
   ],
   "source": [
    "merchant[-2][1][54][0].text"
   ]
  },
  {
   "cell_type": "code",
   "execution_count": 42,
   "id": "d43d3967",
   "metadata": {},
   "outputs": [
    {
     "data": {
      "text/plain": [
       "<Element 'LINE' at 0x00000205B263EBD0>"
      ]
     },
     "execution_count": 42,
     "metadata": {},
     "output_type": "execute_result"
    }
   ],
   "source": [
    "merchant[-2][1][54][1]"
   ]
  },
  {
   "cell_type": "code",
   "execution_count": 43,
   "id": "3dfdf2f9",
   "metadata": {},
   "outputs": [
    {
     "data": {
      "text/plain": [
       "\"The quality of mercy is not strain'd,\""
      ]
     },
     "execution_count": 43,
     "metadata": {},
     "output_type": "execute_result"
    }
   ],
   "source": [
    "merchant[-2][1][54][1].text"
   ]
  },
  {
   "cell_type": "code",
   "execution_count": 44,
   "id": "f0880fd8",
   "metadata": {},
   "outputs": [
    {
     "name": "stdout",
     "output_type": "stream",
     "text": [
      "Act 3 Scene 2 Speech 9: Let music sound while he doth make his choice;\n",
      "Act 3 Scene 2 Speech 9: Fading in music: that the comparison\n",
      "Act 3 Scene 2 Speech 9: And what is music then? Then music is\n",
      "Act 5 Scene 1 Speech 23: And bring your music forth into the air.\n",
      "Act 5 Scene 1 Speech 23: Here will we sit and let the sounds of music\n",
      "Act 5 Scene 1 Speech 23: And draw her home with music.\n",
      "Act 5 Scene 1 Speech 24: I am never merry when I hear sweet music.\n",
      "Act 5 Scene 1 Speech 25: Or any air of music touch their ears,\n",
      "Act 5 Scene 1 Speech 25: By the sweet power of music: therefore the poet\n",
      "Act 5 Scene 1 Speech 25: But music for the time doth change his nature.\n",
      "Act 5 Scene 1 Speech 25: The man that hath no music in himself,\n",
      "Act 5 Scene 1 Speech 25: Let no such man be trusted. Mark the music.\n",
      "Act 5 Scene 1 Speech 29: It is your music, madam, of the house.\n",
      "Act 5 Scene 1 Speech 32: No better a musician than the wren.\n"
     ]
    }
   ],
   "source": [
    "for i, act in enumerate(merchant.findall('ACT')):\n",
    "    for j, scene in enumerate(act.findall('SCENE')):\n",
    "        for k, speech in enumerate(scene.findall('SPEECH')):\n",
    "            for line in speech.findall('LINE'):\n",
    "                if 'music' in str(line.text):\n",
    "                    print(\"Act %d Scene %d Speech %d: %s\" % (i+1, j+1, k+1, line.text))"
   ]
  },
  {
   "cell_type": "code",
   "execution_count": 45,
   "id": "b167b034",
   "metadata": {},
   "outputs": [
    {
     "data": {
      "text/plain": [
       "[('PORTIA', 117),\n",
       " ('SHYLOCK', 79),\n",
       " ('BASSANIO', 73),\n",
       " ('GRATIANO', 48),\n",
       " ('ANTONIO', 47)]"
      ]
     },
     "execution_count": 45,
     "metadata": {},
     "output_type": "execute_result"
    }
   ],
   "source": [
    "from collections import Counter\n",
    "speaker_seq = [s.text for s in merchant.findall('ACT/SCENE/SPEECH/SPEAKER')]\n",
    "speaker_freq = Counter(speaker_seq)\n",
    "top5 = speaker_freq.most_common(5)\n",
    "top5"
   ]
  },
  {
   "cell_type": "code",
   "execution_count": 46,
   "id": "1d0b8e51",
   "metadata": {},
   "outputs": [
    {
     "name": "stdout",
     "output_type": "stream",
     "text": [
      "     ANTO BASS GRAT  OTH PORT SHYL \n",
      "ANTO    0   11    4   11    9   12 \n",
      "BASS   10    0   11   10   26   16 \n",
      "GRAT    6    8    0   19    9    5 \n",
      " OTH    8   16   18  153   52   25 \n",
      "PORT    7   23   13   53    0   21 \n",
      "SHYL   15   15    2   26   21    0 \n"
     ]
    }
   ],
   "source": [
    "from collections import defaultdict\n",
    "abbreviate = defaultdict(lambda: 'OTH')\n",
    "for speaker, _ in top5:\n",
    "    abbreviate[speaker] = speaker[:4]\n",
    "speaker_seq2 = [abbreviate[speaker] for speaker in speaker_seq]\n",
    "cfd = nltk.ConditionalFreqDist(nltk.bigrams(speaker_seq2))\n",
    "cfd.tabulate()"
   ]
  },
  {
   "cell_type": "markdown",
   "id": "82521704",
   "metadata": {},
   "source": [
    "## 4.4   Using ElementTree for Accessing Toolbox Data"
   ]
  },
  {
   "cell_type": "code",
   "execution_count": 47,
   "id": "2f5479d7",
   "metadata": {},
   "outputs": [],
   "source": [
    "from nltk.corpus import toolbox\n",
    "lexicon = toolbox.xml('rotokas.dic')"
   ]
  },
  {
   "cell_type": "code",
   "execution_count": 48,
   "id": "0b1f3d91",
   "metadata": {},
   "outputs": [
    {
     "data": {
      "text/plain": [
       "<Element 'lx' at 0x00000205B266D450>"
      ]
     },
     "execution_count": 48,
     "metadata": {},
     "output_type": "execute_result"
    }
   ],
   "source": [
    "lexicon[3][0]"
   ]
  },
  {
   "cell_type": "code",
   "execution_count": 49,
   "id": "7a36b342",
   "metadata": {},
   "outputs": [
    {
     "data": {
      "text/plain": [
       "'lx'"
      ]
     },
     "execution_count": 49,
     "metadata": {},
     "output_type": "execute_result"
    }
   ],
   "source": [
    "lexicon[3][0].tag"
   ]
  },
  {
   "cell_type": "code",
   "execution_count": 50,
   "id": "9b2e5816",
   "metadata": {},
   "outputs": [
    {
     "data": {
      "text/plain": [
       "'kaa'"
      ]
     },
     "execution_count": 50,
     "metadata": {},
     "output_type": "execute_result"
    }
   ],
   "source": [
    "lexicon[3][0].text"
   ]
  },
  {
   "cell_type": "code",
   "execution_count": 51,
   "id": "4131134e",
   "metadata": {},
   "outputs": [
    {
     "data": {
      "text/plain": [
       "['kaa',\n",
       " 'kaa',\n",
       " 'kaa',\n",
       " 'kaakaaro',\n",
       " 'kaakaaviko',\n",
       " 'kaakaavo',\n",
       " 'kaakaoko',\n",
       " 'kaakasi',\n",
       " 'kaakau',\n",
       " 'kaakauko',\n",
       " 'kaakito',\n",
       " 'kaakuupato',\n",
       " 'kaaova',\n",
       " 'kaapa',\n",
       " 'kaapea',\n",
       " 'kaapie',\n",
       " 'kaapie',\n",
       " 'kaapiepato',\n",
       " 'kaapisi',\n",
       " 'kaapisivira',\n",
       " 'kaapo',\n",
       " 'kaapopato',\n",
       " 'kaara',\n",
       " 'kaare',\n",
       " 'kaareko',\n",
       " 'kaarekopie',\n",
       " 'kaareto',\n",
       " 'kaareva',\n",
       " 'kaava',\n",
       " 'kaavaaua',\n",
       " 'kaaveaka',\n",
       " 'kaaveakapie',\n",
       " 'kaaveakapievira',\n",
       " 'kaaveakavira',\n",
       " 'kae',\n",
       " 'kae',\n",
       " 'kaekae',\n",
       " 'kaekae',\n",
       " 'kaekaearo',\n",
       " 'kaekaeo',\n",
       " 'kaekaesoto',\n",
       " 'kaekaevira',\n",
       " 'kaekeru',\n",
       " 'kaepaa',\n",
       " 'kaepie',\n",
       " 'kaepie',\n",
       " 'kaepievira',\n",
       " 'kaereasi',\n",
       " 'kaereasivira',\n",
       " 'kaetu',\n",
       " 'kaetupie',\n",
       " 'kaetuvira',\n",
       " 'kaeviro',\n",
       " 'kagave',\n",
       " 'kaie',\n",
       " 'kaiea',\n",
       " 'kaikaio',\n",
       " 'kaio',\n",
       " 'kaipori',\n",
       " 'kaiporipie',\n",
       " 'kaiporivira',\n",
       " 'kairi',\n",
       " 'kairiro',\n",
       " 'kairo',\n",
       " 'kaita',\n",
       " 'kaitutu',\n",
       " 'kaitutupie',\n",
       " 'kaitutuvira',\n",
       " 'kakae',\n",
       " 'kakae',\n",
       " 'kakae',\n",
       " 'kakaevira',\n",
       " 'kakapikoa',\n",
       " 'kakapikoto',\n",
       " 'kakapu',\n",
       " 'kakapua',\n",
       " 'kakara',\n",
       " 'kakarapaia',\n",
       " 'kakarau',\n",
       " 'kakarera',\n",
       " 'kakata',\n",
       " 'kakate',\n",
       " 'kakatuara',\n",
       " 'kakau',\n",
       " 'kakauoa',\n",
       " 'kakavea',\n",
       " 'kakavoro',\n",
       " 'kakavu',\n",
       " 'kakeoto',\n",
       " 'kaki',\n",
       " 'kaki',\n",
       " 'kakiaki',\n",
       " 'kakiri',\n",
       " 'kakiua',\n",
       " 'kaku',\n",
       " 'kakua',\n",
       " 'kakuaku',\n",
       " 'kakupaa',\n",
       " 'kakuparei',\n",
       " 'kakupato',\n",
       " 'kakupie',\n",
       " 'kakupute',\n",
       " 'kakutauo',\n",
       " 'kakuto',\n",
       " 'kakutuiato',\n",
       " 'kakuva',\n",
       " 'kakuvira',\n",
       " 'kameoro',\n",
       " 'kandora',\n",
       " 'kaokao',\n",
       " 'kaokaoara',\n",
       " 'kaokaoto',\n",
       " 'kapa',\n",
       " 'kapa',\n",
       " 'kapaava',\n",
       " 'kapai',\n",
       " 'kapara',\n",
       " 'kaparu',\n",
       " 'kaparuvira',\n",
       " 'kapatau',\n",
       " 'kapatoro',\n",
       " 'kapatoroto',\n",
       " 'kape',\n",
       " 'kapeaa',\n",
       " 'kapeaa',\n",
       " 'kapeaavira',\n",
       " 'kapekape',\n",
       " 'kapekapevira',\n",
       " 'kapere',\n",
       " 'kaperepie',\n",
       " 'kapi',\n",
       " 'kapiaa',\n",
       " 'kapiaavira',\n",
       " 'kapikapi',\n",
       " 'kapiro',\n",
       " 'kapiroa',\n",
       " 'kapiroko',\n",
       " 'kapisi',\n",
       " 'kapisito',\n",
       " 'kapiu',\n",
       " 'kapiua',\n",
       " 'kapo',\n",
       " 'kapoa',\n",
       " 'kapokao',\n",
       " 'kapokapo',\n",
       " 'kapokapoa',\n",
       " 'kapokapora',\n",
       " 'kapokaporo',\n",
       " 'kapokari',\n",
       " 'kapokarito',\n",
       " 'kapokoa',\n",
       " 'kapoo',\n",
       " 'kapooto',\n",
       " 'kapoovira',\n",
       " 'kapopaa',\n",
       " 'kaporo',\n",
       " 'kaporo',\n",
       " 'kaporopa',\n",
       " 'kaporoto',\n",
       " 'kapoto',\n",
       " 'kapu',\n",
       " 'kapua',\n",
       " 'kapua',\n",
       " 'kapuapato',\n",
       " 'kapuapie',\n",
       " 'kapuasisi',\n",
       " 'kapupie',\n",
       " 'kapupiea',\n",
       " 'kapupiepaa',\n",
       " 'kapuu',\n",
       " 'kapuupie',\n",
       " 'kapuupiepa',\n",
       " 'kara',\n",
       " 'kara',\n",
       " 'karaava',\n",
       " 'karakarao',\n",
       " 'karakaraoa',\n",
       " 'karakaraoto',\n",
       " 'karakaraovira',\n",
       " 'karakaroto',\n",
       " 'karakuku',\n",
       " 'karaova',\n",
       " 'karapi',\n",
       " 'karapivira',\n",
       " 'karara',\n",
       " 'karata',\n",
       " 'karato',\n",
       " 'karavau',\n",
       " 'karavisi',\n",
       " 'karavisito',\n",
       " 'karavuru',\n",
       " 'kare',\n",
       " 'kare',\n",
       " 'karekare',\n",
       " 'karekare',\n",
       " 'karekarererava',\n",
       " 'karekareto',\n",
       " 'kareke',\n",
       " 'karekepie',\n",
       " 'karekova',\n",
       " 'kareo',\n",
       " 'kareovira',\n",
       " 'karepie',\n",
       " 'karepieto',\n",
       " 'karepirie',\n",
       " 'kari',\n",
       " 'karia',\n",
       " 'kariava',\n",
       " 'karikari',\n",
       " 'karirapa',\n",
       " 'karisito',\n",
       " 'karivai',\n",
       " 'karivaito',\n",
       " 'karivara',\n",
       " 'karo',\n",
       " 'karokaropo',\n",
       " 'karopato',\n",
       " 'karopo',\n",
       " 'karot',\n",
       " 'karoto',\n",
       " 'karova',\n",
       " 'karu',\n",
       " 'karuka',\n",
       " 'karukaru',\n",
       " 'karukava',\n",
       " 'karuru',\n",
       " 'karutu',\n",
       " 'karuvira',\n",
       " 'kasi',\n",
       " 'kasi',\n",
       " 'kasi',\n",
       " 'kasiarao',\n",
       " 'kasiava',\n",
       " 'kasikasi',\n",
       " 'kasikasiua',\n",
       " 'kasipie',\n",
       " 'kasipu',\n",
       " 'kasipupie',\n",
       " 'kasipuvira',\n",
       " 'kasirao',\n",
       " 'kasiraopie',\n",
       " 'kasiraovira',\n",
       " 'kasiu',\n",
       " 'kasiura',\n",
       " 'kasivari',\n",
       " 'kasuari',\n",
       " 'kata',\n",
       " 'katai',\n",
       " 'kataitoarei',\n",
       " 'katakatai',\n",
       " 'katakataivira',\n",
       " 'kataraua',\n",
       " 'katarauto',\n",
       " 'katavira',\n",
       " 'katokato',\n",
       " 'katokatoto',\n",
       " 'katokatovira',\n",
       " 'katokoi',\n",
       " 'katopato',\n",
       " 'katoto',\n",
       " 'katuara',\n",
       " 'katuarato',\n",
       " 'katukatu',\n",
       " 'katuta',\n",
       " 'kau',\n",
       " 'kaukau',\n",
       " 'kaukaupie',\n",
       " 'kaukauvira',\n",
       " 'kaukovo',\n",
       " 'kauo',\n",
       " 'kauokauo',\n",
       " 'kaureo',\n",
       " 'kaureoto',\n",
       " 'kausiopa',\n",
       " 'kausiovira',\n",
       " 'kava',\n",
       " 'kavakavau',\n",
       " 'kavatao',\n",
       " 'kavatara',\n",
       " 'kavau',\n",
       " 'kavau',\n",
       " 'kavau asiava',\n",
       " 'kave',\n",
       " 'kavee',\n",
       " 'kaveepaa',\n",
       " 'kaverui',\n",
       " 'kaveruko',\n",
       " 'kavesi',\n",
       " 'kavikavi',\n",
       " 'kavikaviru',\n",
       " 'kavikaviru',\n",
       " 'kaviko',\n",
       " 'kavikoa',\n",
       " 'kaviru',\n",
       " 'kaviru',\n",
       " 'kaviruto',\n",
       " 'kaviruvira',\n",
       " 'kavo',\n",
       " 'kavokavo',\n",
       " 'kavokavoa',\n",
       " 'kavokavoto',\n",
       " 'kavora',\n",
       " 'kavorato',\n",
       " 'kavori',\n",
       " 'kavori',\n",
       " 'kavorou',\n",
       " 'kavovoa',\n",
       " 'kavovovira',\n",
       " 'kavu',\n",
       " 'kavu',\n",
       " 'kavuava',\n",
       " 'kavupie',\n",
       " 'kavura',\n",
       " 'kavurao',\n",
       " 'kavusi',\n",
       " 'kavuvo',\n",
       " 'kea',\n",
       " 'keakea',\n",
       " 'keakeato',\n",
       " 'keari',\n",
       " 'kearito',\n",
       " 'keavira',\n",
       " 'kee',\n",
       " 'keekee',\n",
       " 'keekeepa',\n",
       " 'keekeeri',\n",
       " 'keekeerito',\n",
       " 'keera',\n",
       " 'keeriva',\n",
       " 'keesi',\n",
       " 'keetaa',\n",
       " 'keevuru',\n",
       " 'keevuruvira',\n",
       " 'kegi',\n",
       " 'kei',\n",
       " 'keke',\n",
       " 'keke',\n",
       " 'kekepie',\n",
       " 'kekeputu',\n",
       " 'kekeputuvira',\n",
       " 'kekeraokovira',\n",
       " 'kekesopa',\n",
       " 'kekevoto',\n",
       " 'kekevotovira',\n",
       " 'kekira',\n",
       " 'keo',\n",
       " 'keoka',\n",
       " 'keopa',\n",
       " 'keovira',\n",
       " 'kepa',\n",
       " 'kepa toupato',\n",
       " 'kepetai',\n",
       " 'kepi',\n",
       " 'kepia',\n",
       " 'kepikepi',\n",
       " 'kepiko',\n",
       " 'kepiriko',\n",
       " 'kepiro',\n",
       " 'kepisi',\n",
       " 'kepisiva',\n",
       " 'kepita',\n",
       " 'kepitai',\n",
       " 'kepito',\n",
       " 'kepo',\n",
       " 'kepoi',\n",
       " 'keposi',\n",
       " 'kepoto',\n",
       " 'kera',\n",
       " 'kerakera',\n",
       " 'kerari',\n",
       " 'keraria',\n",
       " 'kerau',\n",
       " 'kerauto',\n",
       " 'keravisi',\n",
       " 'keravisia',\n",
       " 'keravo',\n",
       " 'kereaka',\n",
       " 'kerekoi',\n",
       " 'kerere',\n",
       " 'kerereua',\n",
       " 'kerete',\n",
       " 'kerete',\n",
       " 'kerevaru',\n",
       " 'keri',\n",
       " 'keriaka',\n",
       " 'kerikerisi',\n",
       " 'kerio',\n",
       " 'kerioua',\n",
       " 'keripaara',\n",
       " 'keripato',\n",
       " 'kerisi',\n",
       " 'kerisito',\n",
       " 'kerisivira',\n",
       " 'keritara',\n",
       " 'keriva',\n",
       " 'keroroi',\n",
       " 'kerosiri',\n",
       " 'keru',\n",
       " 'keru',\n",
       " 'kerui',\n",
       " 'keruiato',\n",
       " 'keruito',\n",
       " 'kerupiua',\n",
       " 'keruria',\n",
       " 'keruriato',\n",
       " 'keruriavira',\n",
       " 'kesi',\n",
       " 'kesie',\n",
       " 'kesievira',\n",
       " 'kesikea vaaguru',\n",
       " 'kesio',\n",
       " 'kesioto',\n",
       " 'kesivira',\n",
       " 'keta',\n",
       " 'ketaka',\n",
       " 'ketakaa',\n",
       " 'ketato',\n",
       " 'ketoo',\n",
       " 'ketoo',\n",
       " 'ketoopie',\n",
       " 'ketoopieara',\n",
       " 'ketoroa',\n",
       " 'ketu',\n",
       " 'kevaita',\n",
       " 'kevaita',\n",
       " 'kevaitato',\n",
       " 'kevira',\n",
       " 'kevisi',\n",
       " 'kevoisi',\n",
       " 'kevoisivira',\n",
       " 'kie',\n",
       " 'kii',\n",
       " 'kiikariko',\n",
       " 'kiipie',\n",
       " 'kiire',\n",
       " 'kiire',\n",
       " 'kiiru',\n",
       " 'kiiuto',\n",
       " 'kiki',\n",
       " 'kiki',\n",
       " 'kikipi',\n",
       " 'kikipisi',\n",
       " 'kikira',\n",
       " 'kikiraeko',\n",
       " 'kikisi',\n",
       " 'kikisikae',\n",
       " 'kikisiova',\n",
       " 'kikitausi',\n",
       " 'kikoo',\n",
       " 'kilia',\n",
       " 'kio',\n",
       " 'kipa',\n",
       " 'kipapie',\n",
       " 'kipe',\n",
       " 'kipekipe',\n",
       " 'kipekipea',\n",
       " 'kipeto',\n",
       " 'kipu',\n",
       " 'kipukipu',\n",
       " 'kipupaa',\n",
       " 'kipupato',\n",
       " 'kipuvira',\n",
       " 'kira',\n",
       " 'kirava',\n",
       " 'kire',\n",
       " 'kiri',\n",
       " 'kirikaokao',\n",
       " 'kirioto',\n",
       " 'kiro',\n",
       " 'kirokiro',\n",
       " 'kirokiro',\n",
       " 'kirokiropato',\n",
       " 'kiroko',\n",
       " 'kiru',\n",
       " 'kirukiru',\n",
       " 'kirukirua',\n",
       " 'kirupato',\n",
       " 'kitoiva',\n",
       " 'kitu',\n",
       " 'kitukitu',\n",
       " 'kiu',\n",
       " 'kiupie',\n",
       " 'kiuto',\n",
       " 'kiuve',\n",
       " 'kiuvu',\n",
       " 'koa',\n",
       " 'koai',\n",
       " 'koakoa',\n",
       " 'koakoa',\n",
       " 'koara',\n",
       " 'koarao',\n",
       " 'koaraua',\n",
       " 'koarava',\n",
       " 'koasio',\n",
       " 'koata',\n",
       " 'koatapie',\n",
       " 'koauve',\n",
       " 'koavaato',\n",
       " 'koe',\n",
       " 'koea',\n",
       " 'koekoe',\n",
       " 'koekoeto',\n",
       " 'koepato',\n",
       " 'koeta',\n",
       " 'koetaova',\n",
       " 'koetapie',\n",
       " 'koetava',\n",
       " 'koetavira',\n",
       " 'koeto',\n",
       " 'kogo',\n",
       " 'kogova',\n",
       " 'koi',\n",
       " 'koie',\n",
       " 'koie',\n",
       " 'koike',\n",
       " 'koiketo',\n",
       " 'koikevira',\n",
       " 'koikoi',\n",
       " 'koikoipato',\n",
       " 'koikoipie',\n",
       " 'koikoito',\n",
       " 'koisi',\n",
       " 'koisiva',\n",
       " 'koivira',\n",
       " 'koka',\n",
       " 'kokai',\n",
       " 'kokara',\n",
       " 'kokaraa',\n",
       " 'kokarapato',\n",
       " 'koke',\n",
       " 'kokee',\n",
       " 'kokepato',\n",
       " 'kokepato',\n",
       " 'kokepie',\n",
       " 'kokerao',\n",
       " 'kokeriva',\n",
       " 'kokeu',\n",
       " 'kokeva',\n",
       " 'koki',\n",
       " 'kokio',\n",
       " 'kokipaia',\n",
       " 'kokito',\n",
       " 'kokivira',\n",
       " 'koko',\n",
       " 'koko',\n",
       " 'kokoi',\n",
       " 'kokoisi',\n",
       " 'kokokoru',\n",
       " 'kokoo',\n",
       " 'kokooko',\n",
       " 'kokookoa',\n",
       " 'kokoote',\n",
       " 'kokootu',\n",
       " 'kokopa',\n",
       " 'kokopakou',\n",
       " 'kokopeko',\n",
       " 'kokopekovira',\n",
       " 'kokopeoto',\n",
       " 'kokopuoto',\n",
       " 'kokopuovira',\n",
       " 'kokopuru',\n",
       " 'kokopuvira',\n",
       " 'kokora',\n",
       " 'kokorai',\n",
       " 'kokorato',\n",
       " 'kokori',\n",
       " 'kokorivira',\n",
       " 'kokoro',\n",
       " 'kokoroki',\n",
       " 'kokoroku',\n",
       " 'kokorokupie',\n",
       " 'kokoropato',\n",
       " 'kokorosi',\n",
       " 'kokorovira',\n",
       " 'kokoru',\n",
       " 'kokoruu',\n",
       " 'kokoruu',\n",
       " 'kokosi',\n",
       " 'kokosi',\n",
       " 'kokosiria',\n",
       " 'kokosito',\n",
       " 'kokosiva',\n",
       " 'kokotagoe',\n",
       " 'kokote',\n",
       " 'kokoto',\n",
       " 'kokotu',\n",
       " 'kokotua',\n",
       " 'kokotuo',\n",
       " 'kokovae',\n",
       " 'kokovaeva',\n",
       " 'kokovara',\n",
       " 'kokovara',\n",
       " 'kokovaravira',\n",
       " 'kokovu',\n",
       " 'kokovua',\n",
       " 'kokovua',\n",
       " 'kokovua',\n",
       " 'kokovupaparie',\n",
       " 'kokovurito',\n",
       " 'koku',\n",
       " 'kokuoku',\n",
       " 'kokureko',\n",
       " 'kokuuto',\n",
       " 'kooe',\n",
       " 'kookaa',\n",
       " 'kookai',\n",
       " 'kookoo',\n",
       " 'kookooia',\n",
       " 'kookoopeko',\n",
       " 'kookoopi',\n",
       " 'kooku',\n",
       " 'kookuto',\n",
       " 'kookuvira',\n",
       " 'koopi',\n",
       " 'koopipi',\n",
       " 'koora',\n",
       " 'kooroo',\n",
       " 'koorooto',\n",
       " 'koorooto',\n",
       " 'kooroovira',\n",
       " 'kooru',\n",
       " 'koota',\n",
       " 'kootopa',\n",
       " 'kootutu',\n",
       " 'koou',\n",
       " 'kooupato',\n",
       " 'koova',\n",
       " 'koova',\n",
       " 'koovoto',\n",
       " 'koovotova',\n",
       " 'kopa',\n",
       " 'kopakai',\n",
       " 'kopakava',\n",
       " 'kopakopa',\n",
       " 'kopakovira',\n",
       " 'kopato',\n",
       " 'kopii',\n",
       " 'kopiia',\n",
       " 'kopiipato',\n",
       " 'kopiipie',\n",
       " 'kopiito',\n",
       " 'kopikao',\n",
       " 'kopikopi',\n",
       " 'kopikopiara',\n",
       " 'kopipi',\n",
       " 'kopirovu',\n",
       " 'kopu',\n",
       " 'kopua',\n",
       " 'kopuasi',\n",
       " 'kopuasipie',\n",
       " 'kopuasito',\n",
       " 'kopuasitovira',\n",
       " 'kopuasivira',\n",
       " 'kopuisi',\n",
       " 'kopukopu',\n",
       " 'kopukopua',\n",
       " 'kopupa',\n",
       " 'kopupira',\n",
       " 'kopuro',\n",
       " 'kopuru',\n",
       " 'kopuvioro',\n",
       " 'kopuvira',\n",
       " 'kora',\n",
       " 'korapato',\n",
       " 'korara',\n",
       " 'koraraoko',\n",
       " 'korau',\n",
       " 'koraua',\n",
       " 'korauru',\n",
       " 'korauvira',\n",
       " 'korea',\n",
       " 'korekare',\n",
       " 'korere',\n",
       " 'korereto',\n",
       " 'kori',\n",
       " 'koria',\n",
       " 'koribori',\n",
       " 'korikori',\n",
       " 'korikoripava',\n",
       " 'korita',\n",
       " 'korita',\n",
       " 'koriteira',\n",
       " 'koro',\n",
       " 'kororo',\n",
       " 'kororo',\n",
       " 'kororoisivira',\n",
       " 'kororovi',\n",
       " 'kororovivira',\n",
       " 'kororu',\n",
       " 'kororupie',\n",
       " 'koroto',\n",
       " 'koroviri',\n",
       " 'korovo',\n",
       " 'koru',\n",
       " 'koruko',\n",
       " 'korukoru',\n",
       " 'korukorupato',\n",
       " 'koruo',\n",
       " 'koruoto',\n",
       " 'koruou',\n",
       " 'koruoua',\n",
       " 'koruovira',\n",
       " 'korupie',\n",
       " 'korupievira',\n",
       " 'kosi',\n",
       " 'kosikosi',\n",
       " 'kosikosi',\n",
       " 'kosipa',\n",
       " 'kosipato',\n",
       " 'kosipie',\n",
       " 'kosivago',\n",
       " 'kosiviro',\n",
       " 'koto',\n",
       " 'kotokoto',\n",
       " 'kotokotoara',\n",
       " 'kotopa',\n",
       " 'kotopa',\n",
       " 'kotovira',\n",
       " 'kotu',\n",
       " 'kotukotu',\n",
       " 'kotupiua',\n",
       " 'koturu',\n",
       " 'kou',\n",
       " 'kou',\n",
       " 'koue',\n",
       " 'koue',\n",
       " 'koui',\n",
       " 'koukou',\n",
       " 'koukouo',\n",
       " 'koukouo',\n",
       " 'kova',\n",
       " 'kovaaro',\n",
       " 'kovaeto',\n",
       " 'kovaii',\n",
       " 'kovakovara',\n",
       " 'kovapato',\n",
       " 'kovarato',\n",
       " 'kovarua',\n",
       " 'kovasi',\n",
       " 'kovata',\n",
       " 'kovatavira',\n",
       " 'kovato',\n",
       " 'kovauke',\n",
       " 'kovava',\n",
       " 'kove',\n",
       " 'kove',\n",
       " 'kovea',\n",
       " 'kovekove',\n",
       " 'koveoapa',\n",
       " 'koveva',\n",
       " 'kovia',\n",
       " 'kovikoro',\n",
       " 'kovire',\n",
       " 'kovirea',\n",
       " 'kovo',\n",
       " 'kovo',\n",
       " 'kovo',\n",
       " 'kovoa',\n",
       " 'kovokovo',\n",
       " 'kovokovo',\n",
       " 'kovokovo',\n",
       " 'kovokovoa',\n",
       " 'kovopaa',\n",
       " 'kovopato',\n",
       " 'kovopie',\n",
       " 'kovoruko',\n",
       " 'kovoto',\n",
       " 'kovovo',\n",
       " 'kovuaka',\n",
       " 'kovuaro',\n",
       " 'kovukovu',\n",
       " 'kovukovuto',\n",
       " 'kovukovuvira',\n",
       " 'kovuru',\n",
       " 'kovurui',\n",
       " 'kovuruko',\n",
       " 'kovurukovira',\n",
       " 'kovuruvira',\n",
       " 'kovuto',\n",
       " 'kuara',\n",
       " 'kue',\n",
       " 'kuea',\n",
       " 'kuga',\n",
       " 'kui',\n",
       " 'kuio',\n",
       " 'kuioi',\n",
       " 'kuiopesi',\n",
       " 'kuiopetu',\n",
       " 'kuito',\n",
       " 'kuka',\n",
       " 'kukara',\n",
       " 'kukauviro',\n",
       " 'kukiuki',\n",
       " 'kukiukia',\n",
       " 'kuku',\n",
       " 'kukua',\n",
       " 'kukuaua',\n",
       " 'kukue',\n",
       " 'kukue pute',\n",
       " 'kukuepaa',\n",
       " 'kukuku',\n",
       " 'kukupira',\n",
       " 'kukuriko',\n",
       " 'kukurikoto',\n",
       " 'kukusiri',\n",
       " 'kukutauvu',\n",
       " 'kukutu',\n",
       " 'kukuuku',\n",
       " 'kukuukua',\n",
       " 'kukuukupie',\n",
       " 'kukuuvua',\n",
       " 'kukuvai',\n",
       " 'kukuvaipaa',\n",
       " 'kukuvita',\n",
       " 'kukuvua',\n",
       " 'kuokuo',\n",
       " 'kupare',\n",
       " 'kupareto',\n",
       " 'kupekupe',\n",
       " 'kupekupepa',\n",
       " 'kupero',\n",
       " 'kuperoo',\n",
       " 'kuperovira',\n",
       " 'kupii',\n",
       " 'kupukupu',\n",
       " 'kurae',\n",
       " 'kurasia',\n",
       " 'kurasia',\n",
       " 'kurei',\n",
       " 'kuri',\n",
       " 'kuriato',\n",
       " 'kurikaakaakuto',\n",
       " 'kurikasi',\n",
       " 'kurikasivira',\n",
       " 'kurikoko',\n",
       " 'kurikuri',\n",
       " 'kuripaa',\n",
       " 'kuritava',\n",
       " 'kuroa',\n",
       " 'kuroea',\n",
       " 'kurokuro',\n",
       " 'kurokuroto',\n",
       " 'kuroo',\n",
       " 'kurooro',\n",
       " 'kurovira',\n",
       " 'kuru',\n",
       " 'kurue',\n",
       " 'kurupi',\n",
       " 'kururai',\n",
       " 'kururu',\n",
       " 'kurutu',\n",
       " 'kusi',\n",
       " 'kusii',\n",
       " 'kusike',\n",
       " 'kusito',\n",
       " 'kuu',\n",
       " 'kuu',\n",
       " 'kuukuuvu',\n",
       " 'kuukuuvuto',\n",
       " 'kuuoa',\n",
       " 'kuupie',\n",
       " 'kuurea',\n",
       " 'kuuri',\n",
       " 'kuuva',\n",
       " 'kuuvaki',\n",
       " 'kuuvakito',\n",
       " 'kuuvato',\n",
       " 'kuuvavira',\n",
       " 'kuuvu',\n",
       " 'kuuvuvira',\n",
       " 'kuva',\n",
       " 'kuvaku',\n",
       " 'kuvato',\n",
       " 'kuvau',\n",
       " 'kuvaupie',\n",
       " 'kuvauvira',\n",
       " 'kuvera',\n",
       " 'kuverava',\n",
       " 'kuvere',\n",
       " 'kuverea',\n",
       " 'kuvereto',\n",
       " 'kuverevira',\n",
       " 'kuvoro',\n",
       " 'kuvu',\n",
       " 'kuvuara',\n",
       " 'kuvukuvu',\n",
       " 'kuvukuvua',\n",
       " 'kuvupato',\n",
       " 'kuvuto']"
      ]
     },
     "execution_count": 51,
     "metadata": {},
     "output_type": "execute_result"
    }
   ],
   "source": [
    "[lexeme.text.lower() for lexeme in lexicon.findall('record/lx')]"
   ]
  },
  {
   "cell_type": "code",
   "execution_count": 52,
   "id": "d720d65e",
   "metadata": {},
   "outputs": [
    {
     "name": "stdout",
     "output_type": "stream",
     "text": [
      "<record>\n",
      "    <lx>kaa</lx>\n",
      "    <ps>N</ps>\n",
      "    <pt>MASC</pt>\n",
      "    <cl>isi</cl>\n",
      "    <ge>cooking banana</ge>\n",
      "    <tkp>banana bilong kukim</tkp>\n",
      "    <pt>itoo</pt>\n",
      "    <sf>FLORA</sf>\n",
      "    <dt>12/Aug/2005</dt>\n",
      "    <ex>Taeavi iria kaa isi kovopaueva kaparapasia.</ex>\n",
      "    <xp>Taeavi i bin planim gaden banana bilong kukim tasol long paia.</xp>\n",
      "    <xe>Taeavi planted banana in order to cook it.</xe>\n",
      "  </record>"
     ]
    }
   ],
   "source": [
    "import sys\n",
    "from nltk.util import elementtree_indent\n",
    "from xml.etree.ElementTree import ElementTree\n",
    "elementtree_indent(lexicon)\n",
    "tree = ElementTree(lexicon[3])\n",
    "tree.write(sys.stdout, encoding='unicode')"
   ]
  },
  {
   "cell_type": "markdown",
   "id": "e0b68ba9",
   "metadata": {},
   "source": [
    "## 4.5   Formatting Entries"
   ]
  },
  {
   "cell_type": "code",
   "execution_count": 53,
   "id": "6da71556",
   "metadata": {},
   "outputs": [
    {
     "name": "stdout",
     "output_type": "stream",
     "text": [
      "<table>\n",
      "  <tr><td>kakae</td><td>???</td><td>small</td></tr>\n",
      "  <tr><td>kakae</td><td>CLASS</td><td>child</td></tr>\n",
      "  <tr><td>kakaevira</td><td>ADV</td><td>small-like</td></tr>\n",
      "  <tr><td>kakapikoa</td><td>???</td><td>small</td></tr>\n",
      "  <tr><td>kakapikoto</td><td>N</td><td>newborn baby</td></tr>\n",
      "  <tr><td>kakapu</td><td>V</td><td>place in sling for purpose of carrying</td></tr>\n",
      "  <tr><td>kakapua</td><td>N</td><td>sling for lifting</td></tr>\n",
      "  <tr><td>kakara</td><td>N</td><td>arm band</td></tr>\n",
      "  <tr><td>Kakarapaia</td><td>N</td><td>village name</td></tr>\n",
      "  <tr><td>kakarau</td><td>N</td><td>frog</td></tr>\n",
      "</table>\n"
     ]
    }
   ],
   "source": [
    "html = \"<table>\\n\"\n",
    "for entry in lexicon[70:80]:\n",
    "    lx = entry.findtext('lx')\n",
    "    ps = entry.findtext('ps')\n",
    "    ge = entry.findtext('ge')\n",
    "    html += \"  <tr><td>%s</td><td>%s</td><td>%s</td></tr>\\n\" % (lx, ps, ge)\n",
    "html += \"</table>\"\n",
    "print(html)"
   ]
  },
  {
   "cell_type": "markdown",
   "id": "4e2d72e2",
   "metadata": {},
   "source": [
    "# 5   Working with Toolbox Data"
   ]
  },
  {
   "cell_type": "code",
   "execution_count": 55,
   "id": "3e3d53e5",
   "metadata": {},
   "outputs": [
    {
     "data": {
      "text/plain": [
       "13.635955056179775"
      ]
     },
     "execution_count": 55,
     "metadata": {},
     "output_type": "execute_result"
    }
   ],
   "source": [
    "from nltk.corpus import toolbox\n",
    "lexicon = toolbox.xml('rotokas.dic')\n",
    "sum(len(entry) for entry in lexicon) / len(lexicon)"
   ]
  },
  {
   "cell_type": "markdown",
   "id": "8b2fe46b",
   "metadata": {},
   "source": [
    "## 5.1   Adding a Field to Each Entry"
   ]
  },
  {
   "cell_type": "code",
   "execution_count": 56,
   "id": "190c5096",
   "metadata": {},
   "outputs": [],
   "source": [
    "from xml.etree.ElementTree import SubElement\n",
    "\n",
    "def cv(s):\n",
    "    s = s.lower()\n",
    "    s = re.sub(r'[^a-z]',     r'_', s)\n",
    "    s = re.sub(r'[aeiou]',    r'V', s)\n",
    "    s = re.sub(r'[^V_]',      r'C', s)\n",
    "    return (s)\n",
    "\n",
    "def add_cv_field(entry):\n",
    "    for field in entry:\n",
    "        if field.tag == 'lx':\n",
    "            cv_field = SubElement(entry, 'cv')\n",
    "            cv_field.text = cv(field.text)"
   ]
  },
  {
   "cell_type": "code",
   "execution_count": 57,
   "id": "f1ba34ba",
   "metadata": {},
   "outputs": [
    {
     "name": "stdout",
     "output_type": "stream",
     "text": [
      "\\lx kaeviro\n",
      "\\ps V\n",
      "\\pt A\n",
      "\\ge lift off\n",
      "\\ge take off\n",
      "\\tkp go antap\n",
      "\\sc MOTION\n",
      "\\vx 1\n",
      "\\nt used to describe action of plane\n",
      "\\dt 03/Jun/2005\n",
      "\\ex Pita kaeviroroe kepa kekesia oa vuripierevo kiuvu.\n",
      "\\xp Pita i go antap na lukim haus win i bagarapim.\n",
      "\\xe Peter went to look at the house that the wind destroyed.\n",
      "\\cv CVVCVCV\n",
      "\n"
     ]
    }
   ],
   "source": [
    "lexicon = toolbox.xml('rotokas.dic')\n",
    "add_cv_field(lexicon[53])\n",
    "print(nltk.toolbox.to_sfm_string(lexicon[53]))"
   ]
  },
  {
   "cell_type": "markdown",
   "id": "c79c4216",
   "metadata": {},
   "source": [
    "## 5.2   Validating a Toolbox Lexicon"
   ]
  },
  {
   "cell_type": "code",
   "execution_count": 58,
   "id": "349372d2",
   "metadata": {},
   "outputs": [
    {
     "data": {
      "text/plain": [
       "[('lx:ps:pt:ge:tkp:dt:ex:xp:xe', 41),\n",
       " ('lx:rt:ps:pt:ge:tkp:dt:ex:xp:xe', 37),\n",
       " ('lx:rt:ps:pt:ge:tkp:dt:ex:xp:xe:ex:xp:xe', 27),\n",
       " ('lx:ps:pt:ge:tkp:nt:dt:ex:xp:xe', 20),\n",
       " ('lx:ps:pt:ge:tkp:nt:dt:ex:xp:xe:ex:xp:xe', 17),\n",
       " ('lx:ps:pt:ge:tkp:dt:ex:xp:xe:ex:xp:xe', 16),\n",
       " ('lx:rt:ps:pt:ge:ge:tkp:dt:ex:xp:xe:ex:xp:xe', 12),\n",
       " ('lx:ps:pt:ge:tkp:nt:sf:dt:ex:xp:xe', 9),\n",
       " ('lx:ps:pt:ge:ge:tkp:dt:ex:xp:xe', 9),\n",
       " ('lx:rt:ps:pt:ge:tkp:dt:ex:xp:xe:ex:xp:xe:ex:xp:xe', 9),\n",
       " ('lx:ps:ge:tkp:dt:ex:xp:xe', 8),\n",
       " ('lx:ps:pt:ge:ge:tkp:dt:ex:xp:xe:ex:xp:xe', 8),\n",
       " ('lx:rt:ps:pt:ge:ge:tkp:dt:ex:xp:xe', 8),\n",
       " ('lx:alt:rt:ps:pt:ge:tkp:dt:ex:xp:xe:ex:xp:xe', 7),\n",
       " ('lx:alt:rt:ps:pt:ge:tkp:dt:ex:xp:xe', 7),\n",
       " ('lx:ps:pt:ge:ge:tkp:arg:vx:dt:ex:xp:xe:ex:xp:xe', 6),\n",
       " ('lx:ps:pt:ge:tkp:cmt:dt:ex:xp:xe', 5),\n",
       " ('lx:ps:pt:ge:tkp:nt:sf:dt:ex:xp:xe:ex:xp:xe', 5),\n",
       " ('lx:rt:ps:pt:ge:tkp:cmt:dt:ex:xp:xe', 5),\n",
       " ('lx:rt:ps:pt:ge:tkp:nt:dt:ex:xp:xe:ex:xp:xe', 4),\n",
       " ('lx:ps:pt:ge:tkp:dt:cmt:ex:xp:xe:ex:xp:xe', 4),\n",
       " ('lx:rt:ps:pt:ge:tkp:cmt:dt:ex:xp:xe:ex:xp:xe', 4),\n",
       " ('lx:ps:pt:ge:ge:tkp:cmt:dt:ex:xp:xe:ex:xp:xe', 4),\n",
       " ('lx:ps:pt:ge:tkp:nt:cmt:dt:ex:xp:xe', 4),\n",
       " ('lx:rt:ps:pt:ge:tkp:dt', 4),\n",
       " ('lx:alt:rt:ps:pt:ge:ge:tkp:dt:ex:xp:xe:ex:xp:xe:ex:xp:xe', 4),\n",
       " ('lx:ps:pt:ge:tkp:eng:dt', 4),\n",
       " ('lx:ps:pt:ge:tkp:vx:cmt:dt:ex:xp:xe', 4),\n",
       " ('lx:ps:pt:ge:tkp:arg:vx:dt:ex:xp:xe:ex:xp:xe:ex:xp:xe', 3),\n",
       " ('lx:ps:pt:ge:tkp:sf:nt:dt:ex:xp:xe:ex:xp:xe:ex:xp:xe', 3),\n",
       " ('lx:rt:ps:pt:ge:ge:tkp:nt:dt:ex:xp:xe', 3),\n",
       " ('lx:rt:ps:pt:ge:ge:ge:tkp:dt:ex:xp:xe', 3),\n",
       " ('lx:ps:pt:ge:tkp:nt:cmt:dt:ex:xp:xe:ex:xp:xe', 3),\n",
       " ('lx:ps:pt:ge:tkp:eng:dt:ex:xp:xe:ex:xp:xe', 3),\n",
       " ('lx:ps:pt:ge:tkp:arg:vx:dt:ex:xp:xe:ex:xp:xe', 3),\n",
       " ('lx:rt:ps:pt:ge:tkp:arg:vx:dt:ex:xp:xe:ex:xp:xe:ex:xp:xe', 3),\n",
       " ('lx:rt:ps:pt:ge:tkp:cmt:dt:ex:xp:xe:ex:xp:xe:ex:xp:xe', 3),\n",
       " ('lx:ps:pt:ge:tkp:nt:dt:ex:xp:xe:ex:xp:xe:ex:xp:xe', 3),\n",
       " ('lx:ps:pt:ge:tkp:vx:dt:ex:xp:xe:ex:xp:xe', 3),\n",
       " ('lx:rt:ps:pt:dx:ge:tkp:dt:ex:xp:xe', 3),\n",
       " ('lx:alt:rt:ps:pt:ge:ge:tkp:dt:ex:xp:xe:ex:xp:xe', 3),\n",
       " ('lx:ps:pt:ge:tkp:eng:eng:arg:vx:dt:ex:xp:xe:ex:xp:xe', 3),\n",
       " ('lx:ps:pt:ge:tkp:cmt:vx:dt:ex:xp:xe', 3),\n",
       " ('lx:ps:pt:ge:ge:ge:tkp:vx:dt:ex:xp:xe:ex:xp:xe', 3),\n",
       " ('lx:rt:ps:pt:ge:ge:tkp:cmt:dt:ex:xp:xe:ex:xp:xe', 3),\n",
       " ('lx:ps:pt:ge:tkp:dt:cmt:ex:xp:xe', 3),\n",
       " ('lx:ps:pt:ge:tkp:nt:sf:dt:ex:xp:xe:ex:xp:xe:ex:xp:xe', 3),\n",
       " ('lx:ps:pt:ge:ge:tkp:vx:sc:dt:ex:xp:xe:ex:xp:xe', 3),\n",
       " ('lx:ps:pt:ge:tkp:nt:dt:sf:ex:xp:xe:ex:xp:xe', 2),\n",
       " ('lx:ps:pt:ge:tkp:dt:ex:xp:xe:ex:xp:xe:ex:xp:xe', 2),\n",
       " ('lx:ps:pt:ge:tkp:nt:sf:dt', 2),\n",
       " ('lx:ps:ge:ge:ge:tkp:cmt:dt:ex:xp:xe', 2),\n",
       " ('lx:ps:ge:tkp:cmt:dt:ex:xp:xe:ex:xp:xe', 2),\n",
       " ('lx:ps:ge:tkp:dt:ex:xp:xe:ex:xp:xe', 2),\n",
       " ('lx:rt:ps:pt:ge:tkp:arg:vx:dt:ex:xp:xe', 2),\n",
       " ('lx:rt:ps:pt:rdp:ge:tkp:arg:vx:dt:ex:xp:xe', 2),\n",
       " ('lx:rt:ps:pt:ge:tkp:dt:ex:xp:xe:ex:xp:xe:ex:xp:xe:ex:xp:xe', 2),\n",
       " ('lx:rt:ps:pt:ge:ge:tkp:dt:cmt:ex:xp:xe:ex:xp:xe', 2),\n",
       " ('lx:ps:pt:ge:eng:ig:dt', 2),\n",
       " ('lx:ps:pt:ge:tkp:tkp:arg:vx:dt:ex:xp:xe:ex:xp:xe', 2),\n",
       " ('lx:ps:pt:ge:ge:tkp:arg:vx:dt:ex:xp:xe:ex:xp:xe:ex:xp:xe', 2),\n",
       " ('lx:rt:ps:pt:ge:ge:tkp:dt:ex:xp:xe:ex:xp:xe:ex:xp:xe:ex:xp:xe', 2),\n",
       " ('lx:ps:pt:ge:tkp:sf:dt:ex:xp:xe', 2),\n",
       " ('lx:rt:ps:pt:ge:tkp:avm:dt:ex:xp:xe:ex:xp:xe', 2),\n",
       " ('lx:ps:pt:ge:eng:tkp:nt:dt:ex:xp:xe:ex:xp:xe', 2),\n",
       " ('lx:ps:pt:ge:tkp:eng:eng:eng:eng:arg:vx:dt:ex:xp:xe:ex:xp:xe', 2),\n",
       " ('lx:ps:pt:ge:tkp:arg:vx:cmt:dt:ex:xp:xe:ex:xp:xe:ex:xp:xe:ex:xp:xe', 2),\n",
       " ('lx:ps:dx:ge:tkp:eng:dt:ex:xp:xe', 2),\n",
       " ('lx:rt:ps:pt:ge:ge:tkp:cmt:dt:ex:xp:xe', 2),\n",
       " ('lx:ps:pt:ge:tkp:dt', 2),\n",
       " ('lx:ps:pt:ge:tkp:eng:eng:eng:dt:ex:xp:xe', 2),\n",
       " ('lx:rt:ps:ge:tkp:dt:ex:xp:xe:ex:xp:xe', 2),\n",
       " ('lx:ps:pt:ge:tkp:eng:eng:eng:dt:ex:xp:xe:ex:xp:xe', 2),\n",
       " ('lx:rt:ps:pt:ge:tkp:avm:dt:ex:xp:xe', 2),\n",
       " ('lx:ps:pt:ge:tkp:eng:dt:ex:xp:xe', 2),\n",
       " ('lx:alt:rt:ps:pt:ge:tkp:dt:ex:xp:xe:ex:xp:xe:ex:xp:xe', 2),\n",
       " ('lx:rt:ps:pt:rdp:ge:ge:tkp:vx:arg:dt:ex:xp:xe:ex:xp:xe', 2),\n",
       " ('lx:ps:pt:ge:tkp:vx:arg:dt:ex:xp:xe:ex:xp:xe', 2),\n",
       " ('lx:ps:pt:ge:tkp:nt:ig:dt', 2),\n",
       " ('lx:ps:pt:ge:tkp:cmt:dt:ex:xp:xe:ex:xp:xe', 2),\n",
       " ('lx:ps:ge:tkp:tkp:dt:ex:xp:xe', 2),\n",
       " ('lx:rt:ps:pt:ge:ge:ge:tkp:dt:ex:xp:xe:ex:xp:xe', 2),\n",
       " ('lx:rt:ps:pt:ge:ge:tkp:dt:ex:xp:xe:ex:xp:xe:ex:xp:xe', 2),\n",
       " ('lx:ps:pt:ge:tkp:cmt:vx:dt', 2),\n",
       " ('lx:rt:ps:ge:tkp:dt:ex:xp:xe:ex:xp:xe:ex:xp:xe', 2),\n",
       " ('lx:ps:pt:ge:ge:tkp:vx:arg:dt:ex:xp:xe:ex:xp:xe', 2),\n",
       " ('lx:alt:rt:ps:pt:ge:ge:tkp:dt:ex:xp:xe', 2),\n",
       " ('lx:ps:pt:ge:ge:tkp:dt', 2),\n",
       " ('lx:ps:pt:ge:ge:tkp:vx:cmt:dt:ex:xp:xe:ex:xp:xe', 2),\n",
       " ('lx:ps:pt:dx:ge:tkp:vx:dt:ex:xp:xe', 2),\n",
       " ('lx:ps:pt:ge:tkp:cmt:dt', 2),\n",
       " ('lx:ps:pt:ge:tkp:vx:cmt:dt:ex:xp:xe:ex:xp:xe', 2),\n",
       " ('lx:rt:ps:ge:tkp:dt', 2),\n",
       " ('lx:ps:pt:ge:ge:tkp:arg:vx:nt:dt:ex:xp:xe:ex:xp:xe', 2),\n",
       " ('lx:rt:ps:pt:ge:tkp:arg:vx:dt:ex:xp:xe:ex:xp:xe', 2),\n",
       " ('lx:ps:pt:dx:ge:tkp:eng:nt:dt', 2),\n",
       " ('lx:ps:pt:ge:tkp:arg:vx:dt:ex:xp:xe', 2),\n",
       " ('lx:ps:pt:ge:tkp:eng:cmt:dt:ex:xp:xe', 2),\n",
       " ('lx:ps:pt:ge:eng:eng:eng:tkp:arg:vx:dt:ex:xp:xe:ex:xp:xe', 2),\n",
       " ('lx:ps:pt:ge:tkp:tkp:nt:dt:ex:xp:xe:ex:xp:xe', 2),\n",
       " ('lx:ps:pt:ge:tkp:dcsv:vx:sc:dt:ex:xp:xe:ex:xp:xe', 2),\n",
       " ('lx:rt:ps:pt:ge:ge:tkp:arg:vx:dt:ex:xp:xe:ex:xp:xe:ex:xp:xe', 2),\n",
       " ('lx:rt:ps:pt:dx:ge:ge:tkp:avm:dt', 2),\n",
       " ('lx:ps:pt:ge:tkp:cm:arg:vx:dt:ex:xp:xe:ex:xp:xe', 2),\n",
       " ('lx:rt:ps:pt:ge:tkp:sf:nt:dt:ex:xp:xe:ex:xp:xe', 2),\n",
       " ('lx:rt:ps:ge:tkp:dt:ex:xp:xe', 2),\n",
       " ('lx:ps:pt:ge:tkp:sc:vx:dt:ex:xp:xe:ex:xp:xe', 2),\n",
       " ('lx:ps:ge:tkp:eng:dt:ex:xp:xe:ex:xp:xe', 2),\n",
       " ('lx:ps:pt:ge:tkp:sf:nt:dt:ex:xp:xe', 2),\n",
       " ('lx:ps:pt:ge:tkp:eng:sa:sf:dt:ex:xp:xe:ex:xp:xe', 2),\n",
       " ('lx:ps:pt:ge:tkp:dx:dt:ex:xp:xe', 2),\n",
       " ('lx:ps:pt:ge:tkp:vx:arg:cmt:dt', 2),\n",
       " ('lx:ps:pt:ge:tkp:nt:pt:dt:ex:xp:xe', 2),\n",
       " ('lx:rt:ps:pt:ge:ge:tkp:avm:dt:ex:xp:xe:ex:xp:xe', 2),\n",
       " ('lx:rt:ps:pt:ge:ge:ge:tkp:dt:ex:xp:xe:ex:xp:xe:ex:xp:xe', 2),\n",
       " ('lx:ps:pt:ge:ge:tkp:nt:dt:ex:xp:xe', 2),\n",
       " ('_sh:_DateStampHasFourDigitYear', 1),\n",
       " ('lx:ps:pt:ge:tkp:dcsv:vx:sc:dt:ex:xp:xe', 1),\n",
       " ('lx:ps:pt:cl:ge:tkp:pt:sf:dt:ex:xp:xe', 1),\n",
       " ('lx:ps:pt:ge:tkp:eng:eng:cmt:dt:ex:xp:xe', 1),\n",
       " ('lx:rt:ps:rdp:ge:tkp:sc:cmt:dt:ex:xp:xe:ex:xp:xe:ex:xp:xe:ex:xp:xe', 1),\n",
       " ('lx:ps:pt:ge:tkp:sf:cmt:dt:ex:xp:xe', 1),\n",
       " ('lx:rt:ps:pt:ge:tkp:vx:sc:cmt:dt:ex:xp:xe:ex:xp:xe', 1),\n",
       " ('lx:rt:ps:pt:ge:ge:tkp:dt', 1),\n",
       " ('lx:rt:ps:pt:ge:eng:eng:eng:ge:tkp:tkp:arg:vx:dt:cmt:ex:xp:xe:ex:xp:xe:ex:xp:xe:ex:xp:xe:ex:xp:xe',\n",
       "  1),\n",
       " ('lx:ps:pt:ge:tkp:eng:eng:arg:vx:dcsv:dt:ex:xp:xe', 1),\n",
       " ('lx:rt:ps:pt:ge:eng:eng:eng:eng:tkp:arg:vx:dt:ex:xp:xe:ex:xp:xe:ex:xp:xe',\n",
       "  1),\n",
       " ('lx:rt:ps:pt:ge:tkp:cmt:nt:dt:ex:xp:xe:ex:xp:xe', 1),\n",
       " ('lx:ps:pt:ge:tkp:vx:dt:cmt:ex:xp:xe:ex:xp:xe', 1),\n",
       " ('lx:ps:pt:ge:tkp:sf:nt:cmt:dt:ex:xp:xe:ex:xp:xe', 1),\n",
       " ('lx:ps:pt:ge:ge:tkp:arg:vx:dcsv:dt:cmt:ex:xp:xe', 1),\n",
       " ('lx:rt:ps:pt:ge:tkp:eng:eng:eng:eng:eng:eng:dt:ex:xp:xe:ex:xp:xe', 1),\n",
       " ('lx:ps:pt:ge:tkp:arg:vx:dcsv:dt:ex:xp:xe:ex:xp:xe', 1),\n",
       " ('lx:ps:pt:ge:tkp:vx:cmt:dt', 1),\n",
       " ('lx:rt:ps:ge:tkp:am:dcsv:dt:ex:xp:xe:ex:xp:xe', 1),\n",
       " ('lx:alt:rt:ps:pt:ge:eng:eng:tkp:dt:ex:xp:xe', 1),\n",
       " ('lx:rt:ps:pt:sn:ge:ge:ge:tkp:tkp:tkp:arg:vx:dt:ex:xp:xe:ex:xp:xe', 1),\n",
       " ('lx:rt:ps:pt:sn:ge:tkp:arg:vx:dt:ex:xp:xe:ex:xp:xe', 1),\n",
       " ('lx:ps:ge:ge:ge:tkp:dcsv:am:cmt:dt:ex:xp:xe', 1),\n",
       " ('lx:rt:ps:pt:ge:tkp:arg:vx:cmt:dt:ex:xp:xe:ex:xp:xe:ex:xp:xe', 1),\n",
       " ('lx:ps:pt:ge:ge:ge:tkp:cmt:dt:ex:xp:xe', 1),\n",
       " ('lx:ps:pt:ge:ge:tkp:sc:vx:nt:dt:ex:xp:xe:cv', 1),\n",
       " ('lx:ps:pt:ge:tkp:sf:dt:ex:xp:xe:ex:xp:xe', 1),\n",
       " ('lx:ps:pt:ge:ge:tkp:vx:cmt:sc:dt:ex:xp:xe:ex:xp:xe', 1),\n",
       " ('lx:rt:ps:pt:ge:ge:ge:tkp:dt:cmt:ex:xp:xe:ex:xp:xe', 1),\n",
       " ('lx:ps:pt:ge:tkp:eng:eng:vx:sc:dt:ex:xp:xe:ex:xp:xe', 1),\n",
       " ('lx:rt:ps:pt:dx:ge:eng:eng:tkp:tkp:vx:arg:dt:ex:xp:xe', 1),\n",
       " ('lx:ps:pt:ge:ge:tkp:nt:cmt:dt:ex:xp:xe', 1),\n",
       " ('lx:ps:pt:ge:tkp:sf:cmt:dt:ex:xp:xe:ex:xp:xe', 1),\n",
       " ('lx:alt:ps:pt:ge:ge:ge:tkp:cmt:dcsv:vx:sc:dt:ex:xp:xe:ex:xp:xe', 1),\n",
       " ('lx:alt:rt:ps:pt:ge:ge:tkp:cmt:arg:vx:cmt:nt:dt:ex:xp:xe:ex:xp:xe', 1),\n",
       " ('lx:ps:ge:ge:tkp:cmt:dt:ex:xp:xe', 1),\n",
       " ('lx:rt:ps:ge:ge:tkp:dt:ex:xp:xe', 1),\n",
       " ('lx:rt:ps:pt:ge:tkp:dt:cmt:ex:xp:xe:ex:xp:xe:ex:xp:xe', 1),\n",
       " ('lx:ps:pt:ge:tkp:dx:dt:ex:xp:xe:ex:xp:xe', 1),\n",
       " ('lx:ps:pt:ge:ge:tkp:tkp:tkp:sf:nt:dt:ex:xp:xe:ex:xp:xe', 1),\n",
       " ('lx:ps:pt:ge:eng:eng:eng:tkp:cmt:dt:ex:xp:xe:ex:xp:xe', 1),\n",
       " ('lx:ps:pt:cl:ge:tkp:nt:sf:dt:ex:xp:xe:ex:xp:xe:ex:xp:xe:ex:xp:xe', 1),\n",
       " ('lx:ps:pt:ge:tkp:arg:vx:dt:ex:xp:xe:ex:xp:xe:ex:xp:xe:ex:xp:xe', 1),\n",
       " ('lx:ps:pt:ge:eng:eng:eng:eng:tkp:dt:ex:xp:xe', 1),\n",
       " ('lx:ps:pt:ge:eng:eng:tkp:cmt:vx:dt:ex:xp:xe:ex:xp:xe:ex:xp:xe', 1),\n",
       " ('lx:ps:pt:ge:eng:eng:tkp:vx:arg:dt:ex:xp:xe:ex:xp:xe:ex:xp:xe', 1),\n",
       " ('lx:rt:ps:pt:ge:ge:tkp:dt:cmt:ex:xp:xe:ex:xp:xe:ex:xp:xe', 1),\n",
       " ('lx:ps:pt:ge:tkp:arg:vx:nt:dcsv:dt:ex:xp:xe:ex:xp:xe', 1),\n",
       " ('lx:rt:ps:pt:ge:ge:dt:ex:xp:xe:ex:xp:xe', 1),\n",
       " ('lx:ps:pt:ge:tkp:eng:arg:vx:nt:dt:ex:xp:xe:ex:xp:xe', 1),\n",
       " ('lx:rt:ps:pt:dx:ge:tkp:avm:dt', 1),\n",
       " ('lx:rt:ps:pt:ge:ge:tkp:tkp:vx:nt:dt:ex:xp:xe:ex:xp:xe:ex:xp:xe:ex:xp:xe:ex:xp:xe',\n",
       "  1),\n",
       " ('lx:ps:pt:ge:tkp:nt:sa:sf:dt:ex:xp:xe', 1),\n",
       " ('lx:ps:pt:ge:tkp:ig:nt:dt:cmt:ex:xp:xe:ex:xp:xe:ex:xp:xe', 1),\n",
       " ('lx:alt:ps:pt:ge:tkp:ig:nt:dt', 1),\n",
       " ('lx:ps:pt:ge:tkp:eng:vx:arg:cmt:dt:ex:xp:xe', 1),\n",
       " ('lx:ps:pt:ge:ge:tkp:dt:arg:vx:cmt:ex:xp:xe:ex:xp:xe:ex:xp:xe', 1),\n",
       " ('lx:ps:pt:ge:eng:eng:eng:tkp:tkp:vx:sc:dt:ex:xp:xe:ex:xp:xe', 1),\n",
       " ('lx:alt:rt:ps:pt:ge:ge:tkp:tkp:cmt:dt:ex:xp:xe:ex:xp:xe:ex:xp:xe:ex:xp:xe',\n",
       "  1),\n",
       " ('lx:rt:ps:pt:rdp:ge:ge:tkp:cm:arg:vx:cmt:dt:ex:xp:xe:ex:xp:xe', 1),\n",
       " ('lx:ps:pt:ge:tkp:eng:vx:cmt:dt:ex:xp:xe:ex:xp:xe:ex:xp:xe', 1),\n",
       " ('lx:rt:ps:pt:dx:ge:tkp:eng:vx:arg:dt:ex:xp:xe', 1),\n",
       " ('lx:rt:ps:pt:ge:ge:ge:tkp:cmt:dt:ex:xp:xe:ex:xp:xe:ex:xp:xe', 1),\n",
       " ('lx:rt:ps:pt:ge:ge:tkp:tkp:dt:ex:xp:xe', 1),\n",
       " ('lx:ps:pt:ge:ge:tkp:arg:vx:cmt:dt:ex:xp:xe', 1),\n",
       " ('lx:rt:ps:pt:ge:eng:eng:tkp:dt:ex:xp:xe', 1),\n",
       " ('lx:ps:pt:ge:tkp:tkp:dt:ex:xp:xe:ex:xp:xe:ex:xp:xe:ex:xp', 1),\n",
       " ('lx:rt:ps:pt:ge:ge:tkp:sf:nt:dt:ex:xp:xe', 1),\n",
       " ('lx:ps:pt:ge:tkp:tkp:eng:eng:eng:eng:arg:vx:dt:ex:xp:xe:ex:xp:xe:ex:xp:xe:ex:xp:xe',\n",
       "  1),\n",
       " ('lx:rt:ps:pt:ge:tkp:eng:cmt:dt:ex:xp:xe:ex:xp:xe', 1),\n",
       " ('lx:rt:ps:pt:rdp:ge:tkp:vx:arg:dt:ex:xp:xe:ex:xp:xe:ex:xp:xe', 1),\n",
       " ('lx:rt:ps:pt:ge:tkp:eng:dt', 1),\n",
       " ('lx:rt:ps:pt:ge:tkp:vx:arg:dt:ex:xp:xe:ex:xp:xe:ex:xp:xe:ex:xp:xe:ex:xp:xe:ex:xp:xe',\n",
       "  1),\n",
       " ('lx:rt:ps:pt:dx:ge:eng:eng:tkp:dt', 1),\n",
       " ('lx:ps:pt:ge:tkp:dt:ex:xp:xe:ex:xp:xe:ex:xp:xe:ex:xp:xe', 1),\n",
       " ('lx:ps:pt:ge:ge:tkp:sa:vx:sc:dt:ex:xp:xe:ex:xp:xe', 1),\n",
       " ('lx:alt:rt:ps:pt:ge:ge:tkp:dt:ex:xp:xe:ex:xp:xe:ex:xp:xe:ex:xp:xe', 1),\n",
       " ('lx:ps:pt:dx:ge:eng:eng:tkp:dt', 1),\n",
       " ('lx:ps:pt:ge:eng:nt:dt:ex:xp:xe', 1),\n",
       " ('lx:ps:pt:ge:tkp:dcsv:vx:dt:ex:xp:xe:ex:xp:xe', 1),\n",
       " ('lx:rt:ps:pt:ge:tkp:vx:arg:dt:cmt:ex:xp:xe:ex:xp:xe', 1),\n",
       " ('lx:rt:ps:ge:tkp:cmt:dt:ex:xp:xe:ex:xp:xe', 1),\n",
       " ('lx:ps:pt:ge:ge:tkp:dcsv:vx:dt:ex:xp:xe:ex:xp:xe:ex:xp:xe', 1),\n",
       " ('lx:rt:ps:pt:ge:tkp:eng:vx:arg:dt:ex:xp:xe:ex:xp:xe:ex:xp:xe', 1),\n",
       " ('lx:rt:ps:pt:ge:tkp:nt:cmt:dt:ex:xp:xe:ex:xp:xe', 1),\n",
       " ('lx:alt:rt:ps:pt:rdp:ge:tkp:cmt:arg:vx:dt:ex:xp:xe:ex:xp:xe:ex:xp:xe', 1),\n",
       " ('lx:ps:pt:ge:tkp:tkp:eng:cmt:dt:ex:xp:xe:ex:xp:xe', 1),\n",
       " ('lx:ps:pt:ge:tkp:sc:vx:cmt:dt:ex:xp:xe:ex:xp:xe', 1),\n",
       " ('lx:alt:rt:ps:pt:ge:eng:eng:tkp:dt:ex:xp:xe:ex:xp:xe:ex:xp:xe', 1),\n",
       " ('lx:ps:pt:ge:ge:ge:tkp:arg:vx:nt:dt:ex:xp:xe:ex:xp:xe', 1),\n",
       " ('lx:ps:pt:ge:ge:tkp:vx:sc:dt:cmt:ex:xp:xe:ex:xp:xe:ex:xp:xe', 1),\n",
       " ('lx:ps:pt:ge:tkp:tkp:dcsv:vx:sc:dt:ex:xp:xe:ex:xp:xe:ex:xp:xe:ex:xp:xe', 1),\n",
       " ('lx:rt:ps:pt:sn:rdp:ge:tkp:vx:sc:cmt:dt:ex:xp:xe:ex:xp:xe', 1),\n",
       " ('lx:rt:ps:pt:sn:rdp:ge:tkp:vx:sc:dt:ex:xp:xe:ex:xp:xe', 1),\n",
       " ('lx:rt:ps:pt:ge:tkp:dx:dt:ex:xp:xe:ex:xp:xe', 1),\n",
       " ('lx:ps:pt:ge:tkp:eng:eng:eng:dcsv:vx:sc:dt:ex:xp:xe:ex:xp:xe', 1),\n",
       " ('lx:rt:ps:pt:ge:tkp:vx:arg:dt:ex:xp:xe:ex:xp:xe:ex:xp:xe:ex:xp:xe', 1),\n",
       " ('lx:ps:pt:ge:ge:tkp:vx:arg:dt:ex:xp:xe:ex:xp:xe:ex:xp:xe', 1),\n",
       " ('lx:rt:ps:pt:ge:tkp:eng:eng:eng:arg:vx:dt:ex:xp:xe:ex:xp:xe', 1),\n",
       " ('lx:rt:ps:pt:ge:ge:tkp:dx:dx:dt:ex:xp:xe:ex:xp:xe', 1),\n",
       " ('lx:ps:pt:ig:ge:tkp:dt', 1),\n",
       " ('lx:ps:pt:ge:ge:tkp:arg:vx:dcpv:dt:ex:xp:xe:ex:xp:xe', 1),\n",
       " ('lx:rt:ps:pt:ge:ge:ge:tkp:tkp:dt:ex:xp:xe:ex:xp:xe', 1),\n",
       " ('lx:ps:pt:ge:tkp:ig:dt:ex:xp:xe', 1),\n",
       " ('lx:ps:pt:ge:tkp:eng:nt:vx:sc:dt:ex:xp:xe:ex:xp:xe:ex:xp:xe:ex:xp:xe', 1),\n",
       " ('lx:ps:pt:ge:tkp:dt:arg:vx:ex:xp:xe:ex:xp:xe:ex:xp:xe', 1),\n",
       " ('lx:rt:ps:pt:ge:eng:eng:eng:tkp:ge:vx:arg:dt:rdp:ex:xp:xe:ex:xp:xe', 1),\n",
       " ('lx:rt:ps:pt:ge:tkp:avm:sc:dt:ex:xp:xe', 1),\n",
       " ('lx:ps:pt:ge:ge:tkp:nt:arg:vx:dt:ex:xp:xe:ex:xp:xe:ex:xp:xe', 1),\n",
       " ('lx:ps:pt:dx:ge:tkp:nt:dt:ex:xp:xe', 1),\n",
       " ('lx:ps:pt:ge:ge:ge:ge:tkp:arg:vx:cm:cmt:dt:ex:xp:xe:ex:xp:xe', 1),\n",
       " ('lx:rt:ps:pt:rdp:ge:tkp:nt:arg:vx:dt:ex:xp:xe:ex:xp:xe', 1),\n",
       " ('lx:rt:ps:pt:ge:tkp:eng:dt:ex:xp:xe', 1),\n",
       " ('lx:ps:pt:dx:ge:tkp:eng:ig:dt', 1),\n",
       " ('lx:ps:pt:ge:eng:eng:tkp:vx:sc:dcpv:cmt:dt:ex:xp:xe:ex:xp:xe', 1),\n",
       " ('lx:ps:pt:ge:tkp:nt:cmt:dt:alt:ex:xp:xe:ex:xp:xe:ex:xp:xe', 1),\n",
       " ('lx:ps:pt:ge:tkp:eng:nt:dt:ex:xp:xe:ex:xp:xe', 1),\n",
       " ('lx:rt:ps:pt:rdp:ge:tkp:tkp:eng:eng:eng:eng:vx:sc:cmt:dt:ex:xp:xe:ex:xp:xe:ex:xp:xe:ex:xp:xe',\n",
       "  1),\n",
       " ('lx:rt:ps:pt:ge:tkp:vx:arg:cmt:dt:ex:xp:xe:ex:xp:xe:ex:xp:xe:ex:xp:xe:ex:xp:xe',\n",
       "  1),\n",
       " ('lx:ps:pt:ge:eng:eng:eng:tkp:tkp:dcsv:cm:vx:arg:sc:cmt:dt:ex:xp:xe:ex:xp:xe:ex:xp:xe:ex:xp:xe',\n",
       "  1),\n",
       " ('lx:rt:ps:pt:ge:eng:eng:tkp:vx:arg:dt:ex:xp:xe:ex:xp:xe:ex:xp:xe', 1),\n",
       " ('lx:rt:ps:pt:ge:eng:tkp:vx:sc:cmt:dt:ex:xp:xe', 1),\n",
       " ('lx:rt:ps:pt:ge:ge:tkp:vx:arg:cmt:dt:ex:xp:xe:ex:xp:xe:ex:xp:xe', 1),\n",
       " ('lx:alt:rt:ps:pt:ge:ge:ge:tkp:dt:ex:xp:xe:ex:xp:xe:ex:xp:xe:ex:xp:xe:ex:xp:xe',\n",
       "  1),\n",
       " ('lx:ps:pt:ge:ge:tkp:tkp:tkp:vx:cmt:dt:ex:xp:xe', 1),\n",
       " ('lx:ps:pt:ge:tkp:nt:ig:dt:ex:xp:xe:ex:xp:xe', 1),\n",
       " ('lx:ps:pt:ge:tkp:dcpv:vx:arg:dt:cmt:ex:xp:xe:ex:xp:xe', 1),\n",
       " ('lx:ps:dx:ge:tkp:eng:eng:dt:ex:xp:xe', 1),\n",
       " ('lx:rt:ps:pt:ge:eng:eng:eng:tkp:dt:ex:xp:xe:ex:xp:xe:ex:xp:xe:ex:xp:xe:ex:xp:xe',\n",
       "  1),\n",
       " ('lx:rt:ps:ge:ge:ge:tkp:tkp:dt:ex:xp:xe', 1),\n",
       " ('lx:alt:rt:ps:pt:ge:tkp:tkp:cmt:dt:ex:xp:xe:ex:xp:xe:ex:xp:xe', 1),\n",
       " ('lx:rt:ps:pt:rdp:ge:ge:tkp:tkp:dt:ex:xp:xe:ex:xp:xe', 1),\n",
       " ('lx:rt:ps:pt:ge:tkp:eng:eng:eng:nt:dt:ex:xp:xe:ex:xp:xe', 1),\n",
       " ('lx:alt:rt:ps:pt:ge:tkp:sc:dt:ex:xp:xe', 1),\n",
       " ('lx:rt:ps:pt:rdp:ge:ge:ge:tkp:tkp:nt:vx:sc:dt:ex:xp:xe:ex:xp:xe:ex:xp:xe',\n",
       "  1),\n",
       " ('lx:ps:ge:ge:tkp:cmt:dt:ex:xp:xe:ex:xp:xe', 1),\n",
       " ('lx:rt:ps:pt:ge:tkp:nt:dt:ex:xp:xe', 1),\n",
       " ('lx:rt:ps:pt:ge:ge:tkp:vx:arg:dt:ex:xp:xe:ex:xp:xe:ex:xp:xe', 1),\n",
       " ('lx:alt:rt:ps:pt:ge:tkp:nt:sa:dt:ex:xp:xe:ex:xp:xe:ex:xp:xe', 1),\n",
       " ('lx:ps:pt:ge:tkp:cmt:dt:alt:ex:xp:xe', 1),\n",
       " ('lx:ps:pt:ge:tkp:tkp:sc:vx:dt:ex:xp:xe:ex:xp:xe', 1),\n",
       " ('lx:rt:ps:pt:rdp:ge:tkp:vx:sc:dt:ex:xp:xe:ex:xp:xe:ex:xp:xe', 1),\n",
       " ('lx:ps:pt:ge:tkp:tkp:eng:eng:eng:eng:cm:am:dcsv:arg:vx:cmt:dt:ex:xp:xe:ex:xp:xe',\n",
       "  1),\n",
       " ('lx:alt:ps:pt:ge:ge:ge:ge:tkp:cmt:cm:arg:vx:nt:dt:ex:xp:xe:ex:xp:xe:ex:xp:xe',\n",
       "  1),\n",
       " ('lx:alt:rt:ps:pt:ge:tkp:nt:cmt:dt:ex:xp:xe:ex:xp:xe:ex:xp:xe:ex:xp:xe', 1),\n",
       " ('lx:rt:ps:pt:rdp:ge:tkp:eng:eng:vx:arg:dt:ex:xp:xe:ex:xp:xe:ex:xp:xe', 1),\n",
       " ('lx:ps:pt:ge:eng:tkp:dt:ex:xp:xe:ex:xp:xe:ex:xp', 1),\n",
       " ('lx:ps:pt:ge:tkp:tkp:arg:vx:dt:ex:xp:xe:ex:xp:xe:ex:xp:xe:ex:xp:xe', 1),\n",
       " ('lx:ps:pt:ge:ge:tkp:vx:arg:dt:cmt:ex:xp:xe:ex:xp:xe:ex:xp:xe', 1),\n",
       " ('lx:ps:pt:ge:tkp:vx:sc:cmt:dt:ex:xp:xe:ex:xp:xe:ex:xp', 1),\n",
       " ('lx:rt:ps:pt:rdp:ge:ge:tkp:cm:vx:arg:dt:ex:xp:xe:ex:xp:xe', 1),\n",
       " ('lx:rt:ps:pt:rdp:ge:tkp:vx:arg:dt:ex:xp:xe:ex:xp:xe', 1),\n",
       " ('lx:ps:pt:ge:tkp:cm:vx:arg:dt:cmt:ex:xp:xe:ex:xp:xe:ex:xp:xe', 1),\n",
       " ('lx:ps:pt:ge:ge:tkp:vx:sc:cmt:dt:ex:xp:xe', 1),\n",
       " ('lx:ps:pt:ge:eng:eng:eng:tkp:tkp:arg:vx:dt:ex:xp:xe:ex:xp:xe', 1),\n",
       " ('lx:ps:pt:ge:ge:ge:ge:tkp:dt:ex:xp:xe:ex:xp:xe', 1),\n",
       " ('lx:ps:pt:ge:ge:tkp:dt:cmt:ex:xp:xe:ex:xp:xe:ex:xp:xe', 1),\n",
       " ('lx:ps:pt:ge:ge:ge:tkp:cmt:arg:vx:cm:sa:dt:ex:xp:xe:ex:xp:xe', 1),\n",
       " ('lx:rt:ps:pt:ge:ge:tkp:tkp:dt:ex:xp:xe:ex:xp:xe:ex:xp:xe:ex:xp:xe', 1),\n",
       " ('lx:ps:pt:ge:eng:eng:tkp:tkp:vx:sc:dcpv:dt:cmt:ex:xp:xe:ex:xp:xp', 1),\n",
       " ('lx:ps:pt:ge:eng:tkp:tkp:vx:arg:sc:dt:ex:xp:xe', 1),\n",
       " ('lx:rt:ps:pt:ge:tkp:eng:vx:arg:nt:dt:ex:xp:xe:ex:xp:xe:ex:xp:xe', 1),\n",
       " ('lx:ps:pt:ge:eng:eng:eng:tkp:cm:arg:cmt:vx:dt:ex:xp:xe:ex:xp:xe', 1),\n",
       " ('lx:rt:ps:pt:rdp:ge:tkp:eng:arg:vx:cmt:dt:ex:xp:xe:ex:xp:xe', 1),\n",
       " ('lx:rt:ps:pt:ge:tkp:dt:ex:xp:xe:xp:xe', 1),\n",
       " ('lx:alt:rt:ps:pt:ge:ge:tkp:dt:cmt:ex:xp:xe:ex:xp:xe:ex:xp:xe', 1),\n",
       " ('lx:ps:pt:ge:ge:ge:tkp:nt:arg:vx:dt:ex:xp:xe:ex:xp:xe', 1),\n",
       " ('lx:rt:ps:pt:rdp:ge:ge:tkp:vx:cmt:dt:ex:xp:xe:ex:xp:xe', 1),\n",
       " ('lx:ps:pt:ge:eng:eng:eng:tkp:tkp:cm:vx:arg:sc:cmt:dt:ex:xp:xe:ex:xp:xe:ex:xp:xe:ex:xp:xe:ex:xp:xe',\n",
       "  1),\n",
       " ('lx:ps:ge:tkp:cmt:dt:ex:xp:xe', 1),\n",
       " ('lx:ps:pt:ge:eng:eng:tkp:nt:dt', 1),\n",
       " ('lx:rt:ge:tkp:dt:ex:xp:xe', 1),\n",
       " ('lx:ps:pt:ge:tkp:tkp:vx:arg:dt:ex:xp:xe:ex:xp:xe', 1),\n",
       " ('lx:ps:pt:ge:eng:tkp:vx:arg:cmt:sc:dcpv:dt:ex:xp:xe:ex:xp:xe:ex:xp:xe', 1),\n",
       " ('lx:ps:pt:ge:tkp:dcsv:vx:dcpv:dadv:dt:ex:xp:xe:ex:xp:xe', 1),\n",
       " ('lx:rt:ps:pt:ge:tkp:tkp:arg:vx:dt:ex:xp:xe:ex:xp:xe', 1),\n",
       " ('lx:alt:rt:ps:pt:ge:ge:tkp:nt:dt:ex:xp:xe:ex:xp:xe', 1),\n",
       " ('lx:ps:dx:ge:tkp:dt:nt:cmt', 1),\n",
       " ('lx:alt:rt:ps:pt:ge:ge:tkp:tkp:dt:ex:xp:xe:ex:xp:xe', 1),\n",
       " ('lx:ps:pt:ge:ge:tkp:vx:arg:cmt:dt:ex:xp:xe:ex:xp:xe:ex:xp:xe', 1),\n",
       " ('lx:ps:pt:ge:ge:tkp:vx:dt:cmt:ex:xp:xe:ex:xp:xe', 1),\n",
       " ('lx:ps:pt:ge:tkp:am:vx:dt:ex:xp:xe:ex:xp:xe:ex:xp:xe', 1),\n",
       " ('lx:ps:pt:ge:tkp:eng:eng:dt:ex:xp:xe:ex:xp:xe', 1),\n",
       " ('lx:rt:rt:ps:pt:dx:ge:tkp:dt', 1),\n",
       " ('lx:rt:ps:pt:cl:ge:tkp:sf:nt:dt:ex:xp:xe', 1),\n",
       " ('lx:alt:rt:ps:pt:ge:tkp:nt:dt:ex:xp:xe:ex:xp', 1),\n",
       " ('lx:ps:pt:ge:ge:tkp:arg:vx:dt:ex:xp:xe', 1),\n",
       " ('lx:ps:pt:ge:tkp:eng:sa:dt:ex:xp:xe:ex:xp:xe', 1),\n",
       " ('lx:ps:pt:ge:tkp:sf:nt:dt:ex:xp:xe:ex:xp:xe', 1),\n",
       " ('lx:ps:ge:ge:tkp:dt:cmt', 1),\n",
       " ('lx:ps:pt:ge:tkp:cmt:arg:vx:dt:ex:xp:xe:ex:xp:xe:ex:xp:xe:ex:xp:xe', 1),\n",
       " ('lx:ps:pt:ge:ge:tkp:cm:vx:arg:dt:ex:xp:xe:ex:xp:xe', 1),\n",
       " ('lx:rt:ps:pt:rdp:ge:ge:tkp:tkp:vx:arg:dt:ex:xp:xe:ex:xp:xe', 1),\n",
       " ('lx:ps:pt:ge:tkp:eng:eng:eng:arg:vx:dt:ex:xp:xe:ex:xp:xe', 1),\n",
       " ('lx:rt:ps:pt:ge:tkp:eng:eng:eng:dt:ex:xp:xe', 1),\n",
       " ('lx:ps:pt:ge:tkp:nt:sa:dt:ex:xp:xe', 1),\n",
       " ('lx:alt:ps:pt:ge:tkp:nt:dt:ex:xp:xe', 1),\n",
       " ('lx:rt:wf:wf:ps:pt:ge:tkp:dt:ex:xp:xe:ex:xp:xe:ex:xp:xe', 1),\n",
       " ('lx:rt:ps:pt:ge:tkp:cmt:nt:dt', 1),\n",
       " ('lx:ps:pt:ge:ge:ge:tkp:vx:nt:cmt:dt:ex:xp:xe', 1),\n",
       " ('lx:alt:rt:ps:pt:ge:ge:tkp:dt', 1),\n",
       " ('lx:alt:rt:ps:pt:ge:tkp:dt:ex:xp:xe:ex:xp:xe:ex:xp:xe:ex:xp:xe', 1),\n",
       " ('lx:ps:pt:ge:tkp:dx:vx:arg:dt:ex:xp:xe', 1),\n",
       " ('lx:rt:ps:pt:ge:ge:tkp:cmt:dt', 1),\n",
       " ('lx:ps:pt:ge:tkp:dcsv:vx:arg:cmt:dt:ex:xp:xe:ex:xp:xe', 1),\n",
       " ('lx:ps:pt:dx:ge:ge:tkp:vx:arg:dt:ex:xp:xe', 1),\n",
       " ('lx:ps:pt:ge:ge:ge:tkp:cmt:vx:arg:dt:ex:xp:xe', 1),\n",
       " ('lx:rt:ps:pt:ge:ge:tkp:nt:dt:ex:xp:xe:ex:xp:xe', 1),\n",
       " ('lx:ps:pt:ge:ge:tkp:dt:vx:cmt:ex:xp:xe:ex:xp:xe', 1),\n",
       " ('lx:ps:ge:ge:tkp:dt:ex:xp:xe:ex:xp:xe', 1),\n",
       " ('lx:ps:pt:ge:ge:tkp:cmt:dcsv:vx:dt:cmt:ex:xp:xe:ex:xp:xe', 1),\n",
       " ('lx:rt:ps:pt:ge:ge:tkp:vx:arg:dt:ex:xp:xe', 1),\n",
       " ('lx:ps:pt:ge:tkp:vx:ex:xp:xe:dt', 1),\n",
       " ('lx:ps:pt:dx:ge:tkp:nt:vx:arg:dt:ex:xp:xe', 1),\n",
       " ('lx:cl:ps:pt:ge:tkp:dt', 1),\n",
       " ('lx:ps:pt:dx:ge:eng:eng:tkp:tkp:cmt:dt:ex:xp:xe', 1),\n",
       " ('lx:ps:pt:ge:tkp:nt:arg:vx:dt:ex:xp:xe:ex:xp:xe', 1),\n",
       " ('lx:ps:pt:ge:tkp:nt:arg:vx:cmt:dt', 1),\n",
       " ('lx:ps:pt:ge:tkp:eng:arg:vx:dt:ex:xp:xe:ex:xp:xe', 1),\n",
       " ('lx:rt:ps:pt:dx:ge:tkp:vx:dt:ex:xp:xe', 1),\n",
       " ('lx:ps:pt:ge:tkp:vx:arg:dt:cmt:ex:xp:xe:ex:xp:xe', 1),\n",
       " ('lx:rt:ps:pt:ge:tkp:dt:cmt:ex:xp:xe:ex:xp:xe', 1),\n",
       " ('lx:rt:ps:pt:ge:ge:ge:tkp:dt', 1),\n",
       " ('lx:rt:ps:pt:ge:tkp:eng:eng:eng:vx:arg:dt:ex:xp:xe:ex:xp:xe', 1),\n",
       " ('lx:ps:pt:ge:tkp:vx:dt:ex:xp:xe:ex:xp:xe:ex:xp:xe', 1),\n",
       " ('lx:ps:pt:ge:tkp:eng:sf:dt:ex:xp:xe', 1),\n",
       " ('lx:ps:pt:ge:tkp:nt:cmt:dt', 1),\n",
       " ('lx:rt:ps:pt:ge:ge:ge:tkp:avm:sc:dt:ex:xp:xe', 1),\n",
       " ('lx:rt:ps:pt:ge:tkp:vx:dt:cmt:ex:xp:xe:ex:xp:xe', 1),\n",
       " ('lx:ps:pt:ge:ge:tkp:nt:dt:ex:xp:xe:ex:xp:xe', 1),\n",
       " ('lx:ps:pt:ge:ge:tkp:tkp:vx:arg:cmt:cmt:dt:ex:xp:xe', 1),\n",
       " ('lx:rt:ps:pt:ge:tkp:arg:vx:cmt:dt:ex:xp:xe:ex:xp:xe', 1),\n",
       " ('lx:ps:pt:ge:eng:eng:tkp:tkp:dcsv:arg:vx:dt:ex:xp:xe:ex:xp:xe:ex:xp:xe', 1),\n",
       " ('lx:rt:ps:pt:ge:eng:eng:tkp:arg:vx:dt:ex:xp:xe:ex:xp:xe:ex:xp:xe', 1),\n",
       " ('lx:rt:ps:pt:rdp:ge:ge:tkp:arg:vx:dt:ex:xp:xe', 1),\n",
       " ('lx:ps:pt:ge:tkp:vx:arg:nt:dt:ex:xp:xe:ex:xp:xe', 1),\n",
       " ('lx:ps:pt:ge:tkp:eng:sa:dt:ex:xp:xe', 1),\n",
       " ('lx:rt:ps:pt:ge:tkp:eng:eng:eng:dt:ex:xp:xe:ex:xp:xe', 1),\n",
       " ('lx:ps:pt:ge:tkp:nt:dt:sa:cmt:ex:xp:xe', 1),\n",
       " ('lx:rt:ps:pt:ge:ge:tkp:arg:vx:dt:ex:xp:xe:ex:xp:xe', 1),\n",
       " ('lx:rt:ps:pt:ge:tkp:rdp:arg:vx:dt:cmt:ex:xp:xe:ex:xp:xe:ex:xp:xe', 1),\n",
       " ('lx:rt:ps:pt:ge:tkp:avm:sc:dt:ex:xp:xe:ex:xp:xe', 1),\n",
       " ('lx:ps:pt:ge:ge:ge:tkp:dcsv:vx:nt:dt:ex:xp:xe:ex:xp:xe', 1),\n",
       " ('lx:ps:pt:dx:ge:eng:tkp:vx:dt:ex:xp:xe', 1),\n",
       " ('lx:alt:ps:pt:ge:tkp:dt:ex:xp:xe:ex:xp:xe', 1),\n",
       " ('lx:ps:pt:ge:tkp:sc:vx:nt:dt:ex:xp:xe', 1),\n",
       " ('lx:ps:ge:tkp:tkp:dt:cmt:ex:xp:xe:ex:xp:xe:ex:xp:xe:ex:xp:xe', 1),\n",
       " ('lx:alt:rt:ps:pt:ge:eng:eng:eng:tkp:tkp:dt:ex:xp:xe:ex:xp:xe:ex:xp:xe', 1),\n",
       " ('lx:rt:ps:pt:ge:tkp:vx:dcsv:dt:ex:xp:xe:ex:xp:xe:ex:xp:xe', 1),\n",
       " ('lx:rt:ps:pt:ge:tkp:vx:dt:ex:xp:xe:ex:xp:xe', 1),\n",
       " ('lx:ps:pt:eng:ge:tkp:arg:vx:dt:ex:xp:xe', 1),\n",
       " ('lx:ps:pt:ge:ge:ge:tkp:cm:arg:vx:cmt:dt:ex:xp:xe:ex:xp:xe', 1),\n",
       " ('lx:rt:ps:pt:ge:tkp:ex:xp:xe:dt', 1),\n",
       " ('lx:rt:ps:pt:dx:ge:tkp:eng:vx:cmt:dt:ex:xp:xe', 1),\n",
       " ('lx:ps:pt:ge:ge:ge:tkp:dt:ex:xp:xe:ex:xp:xe', 1),\n",
       " ('lx:ps:pt:ge:tkp:tkp:dt:ex:xp:xe', 1),\n",
       " ('lx:ps:pt:ge:eng:eng:eng:eng:tkp:arg:vx:dt:ex:xp:xe:ex:xp:xe', 1),\n",
       " ('lx:ps:pt:ge:tkp:nt:pt:dt:ex:xp:xe:ex:xp:xe', 1),\n",
       " ('lx:ps:ge:tkp:eng:dt:ex:xp:xe:ex:xp:xe:ex:xp:xe', 1),\n",
       " ('lx:ps:pt:ge:tkp:eng:nt:sa:sf:dt:ex:xp:xe:ex:xp:xe', 1),\n",
       " ('lx:ps:pt:ge:eng:eng:tkp:dt:ex:xp:xe:ex:xp:xe', 1),\n",
       " ('lx:ps:pt:ge:ge:tkp:vx:dt:sc:ex:xp:xe:ex:xp:xe', 1),\n",
       " ('lx:rt:ps:pt:ge:ge:tkp:nt:dt:ex:xp:xe:ex:xp:xe:ex:xp:xe', 1),\n",
       " ('lx:alt:rt:ps:pt:ge:tkp:cmt:dt:ex:xp:xe:ex:xp:xe:ex:xp:xe', 1),\n",
       " ('lx:ps:pt:dx:ge:tkp:ig:dt', 1),\n",
       " ('lx:rt:ps:pt:ge:tkp:cmt:sf:dt:ex:xp:xe:ex:xp:xe', 1),\n",
       " ('lx:ps:pt:ge:tkp:eng:eng:eng:eng:am:vx:dt:ex:xp:xe:ex:xp:xe', 1),\n",
       " ('lx:ps:pt:ge:tkp:dt:cmt:vx:dcsv:ex:xp:xe:ex:xp:xe:ex:xp:xe:ex:xp', 1),\n",
       " ('lx:rt:ps:pt:ge:tkp:eng:vx:arg:dt:ex:xp:xe', 1),\n",
       " ('lx:rt:ps:pt:ge:tkp:eng:eng:eng:eng:eng:avm:dt:ex:xp:xe', 1),\n",
       " ('lx:ps:pt:ge:tkp:cmt:dt:ex:xp:xe:ex:xp:xe:ex:xp:xe', 1),\n",
       " ('lx:ps:pt:ge:tkp:cmt:vx:dt:ex:xp', 1),\n",
       " ('lx:ps:pt:ge:tkp:dt:ex', 1),\n",
       " ('lx:ps:pt:ge:eng:eng:tkp:vx:cmt:dt:ex:xp:xe', 1),\n",
       " ('lx:rt:ps:pt:ge:eng:tkp:dt:cmt:ex:xp:xe:ex:xp:xe:ex:xp:xe', 1),\n",
       " ('lx:ps:pt:ge:tkp:nt:pt:sa:sa:dt:ex:xp:xe:ex:xp:xe', 1),\n",
       " ('lx:ps:pt:ge:tkp:dt:cmt', 1),\n",
       " ('lx:ps:pt:ge:tkp:sc:vx:dt:ex:xp:xe:ex:xp:xe:ex:xp:xe', 1),\n",
       " ('lx:ps:pt:ge:eng:eng:tkp:tkp:sc:cmt:vx:dt:ex:xp:xe', 1),\n",
       " ('lx:ps:pt:cl:ge:tkp:dt:ex:xp:xe:ex:xp:xe', 1),\n",
       " ('lx:ps:pt:dx:ge:tkp:vx:arg:dt:ex:xp:xe', 1),\n",
       " ('lx:ps:pt:sn:ge:tkp:dt:ex:xp:xe:ex:xp:xe:ex:xp:xe', 1),\n",
       " ('lx:rt:ps:pt:sn:ge:tkp:arg:vx:cmt:dt:ex:xp:xe:ex:xp:xe', 1),\n",
       " ('lx:ps:pt:ge:ge:tkp:tkp:sf:dt:ex:xp:xe:ex:xp:xe', 1),\n",
       " ('lx:ps:pt:ge:eng:tkp:vx:dt:ex:xp:xe:ex:xp:xe', 1),\n",
       " ('lx:ps:pt:ge:ge:ge:tkp:nt:dt:ex:xp:xe:ex:xp:xe', 1),\n",
       " ('lx:ps:pt:ge:tkp:vx:arg:cmt:cm:dt:ex:xp:xe:ex:xp:xe', 1),\n",
       " ('lx:ps:pt:sn:ge:tkp:nt:sf:dt:ex:xp:xe', 1),\n",
       " ('lx:rt:ps:pt:sn:ge:tkp:cmt:dt:ex:xp:xe:ex:xp:xe', 1),\n",
       " ('lx:ps:pt:ge:eng:tkp:nt:dt:ex:xp:xe', 1),\n",
       " ('lx:ps:pt:ge:tkp:sc:nt:vx:dt:ex:xp:xe:ex:xp:xe', 1),\n",
       " ('lx:rt:ps:pt:ge:ge:tkp:tkp:dt:ex:xp:xe:ex:xp:xe', 1),\n",
       " ('lx:rt:ps:pt:rdp:ge:tkp:eng:eng:am:arg:vx:dt:ex:xp:xe:ex:xp:xe', 1),\n",
       " ('lx:ps:pt:ge:eng:eng:tkp:vx:cmt:dcsv:dt:ex:xp:xe:ex:xp:xe', 1),\n",
       " ('lx:rt:ps:pt:ge:eng:eng:tkp:arg:vx:cmt:dt:ex:xp:xe:ex:xp:xe:ex:xp:xe', 1),\n",
       " ('lx:rt:ps:pt:ge:ge:ge:ge:tkp:dt:ex:xp:xe:ex:xp:xe', 1),\n",
       " ('lx:rt:ps:pt:rdp:ge:ge:tkp:nt:arg:vx:dt:ex:xp:xe:ex:xp:xe', 1),\n",
       " ('lx:rt:ps:pt:rdp:ge:ge:ge:tkp:dt:ex:xp:xe', 1),\n",
       " ('lx:ps:pt:vx:dx:ge:eng:eng:tkp:dt:ex:xp:xe', 1),\n",
       " ('lx:rt:ps:pt:ge:ge:tkp:vx:arg:dt:ex:xp:xe:ex:xp:xe', 1),\n",
       " ('lx:ps:pt:ge:eng:nt:dt', 1),\n",
       " ('lx:rt:ps:pt:rdp:ge:tkp:nt:dt:cmt:ex:xp:xe', 1),\n",
       " ('lx:ps:pt:ge:ge:tkp:dt:am:ex:xp:xe:ex:xp:xe', 1),\n",
       " ('lx:rt:ps:pt:cl:ge:tkp:pt:dt:ex:xp:xe', 1),\n",
       " ('lx:ps:pt:ge:eng:tkp:vx:cmt:dt:ex:xp:xe:ex:xp:xe', 1),\n",
       " ('lx:rt:ps:pt:ge:tkp:nt:sa:dt:ex:xp:xe', 1),\n",
       " ('lx:ps:pt:ge:ge:eng:tkp:vx:cmt:dt', 1),\n",
       " ('lx:rt:ps:pt:ge:tkp:dt:cmt:ex:xp:xe:ex:xp:xe:ex:xp:xe:ex:xp:xe', 1),\n",
       " ('lx:ps:pt:ge:eng:eng:eng:tkp:arg:vx:cmt:dt:ex:xp:xe:ex:xp:xe:ex:xp:xe', 1),\n",
       " ('lx:rt:ps:ge:tkp:eng:eng:eng:dt', 1),\n",
       " ('lx:rt:ps:pt:ge:ge:tkp:tkp:cmt:dt:ex:xp:xe', 1),\n",
       " ('lx:ps:pt:ge:tkp:ge:ge:ge:nt:arg:vx:dt:ex:xp:xe', 1),\n",
       " ('lx:ps:pt:ge:tkp:nt:dt', 1),\n",
       " ('lx:ps:pt:ge:ge:tkp:cmt:dt:vx:cmt:ex:xp:xe:ex:xp:xe', 1),\n",
       " ('lx:ps:pt:cl:ge:ge:ge:tkp:tkp:dt:ex:xp:xe', 1),\n",
       " ('lx:rt:ps:pt:ge:ge:ge:tkp:tkp:dt:ex:xp:xe', 1),\n",
       " ('lx:ps:pt:ge:ge:tkp:dcsv:vx:cmt:dt:ex:xp:xe:ex:xp:xe:ex:xp:xe', 1),\n",
       " ('lx:ps:pt:ge:tkp:cm:arg:vx:dt:ex:xp:xe:ex:xp:xe:ex:xp:xe', 1),\n",
       " ('lx:ps:pt:ge:ge:ge:tkp:arg:vx:dt:cmt:ex:xp:xe:ex:xp:xe', 1),\n",
       " ('lx:ps:pt:ge:tkp:dcsv:cmt:dt:ex:xp:xe:ex:xp:xe:ex:xp:xe:ex:xp:xe', 1),\n",
       " ('lx:ps:pt:ge:tkp:sa:dx:dt:ex:xp:xe', 1),\n",
       " ('lx:rt:rdp:ps:pt:ge:ge:eng:eng:eng:eng:tkp:vx:arg:cm:dt:ex:xp:xe:ex:xp:xe',\n",
       "  1),\n",
       " ('lx:rt:ps:pt:ge:eng:eng:tkp:avm:dt', 1),\n",
       " ('lx:ps:ge:tkp:cmt:dt', 1),\n",
       " ('lx:ps:pt:ge:tkp:cm:vx:arg:cmt:dt:ex:xp:xe:ex:xp:xe', 1),\n",
       " ('lx:ps:pt:ge:eng:eng:eng:tkp:tkp:dcsv:sc:vx:cmt:dt:ex:xp:xe', 1),\n",
       " ('lx:rt:rdp:ps:pt:ge:tkp:tkp:eng:eng:ge:tkp:dcpv:vx:sc:cmt:dt:ex:xp:xe:ex:xp:xe:ex:xp:xe:ex:xp:xe',\n",
       "  1),\n",
       " ('lx:ps:pt:ge:tkp:vx:arg:cmt:dt:ex:xp:xe:ex:xp:xe', 1),\n",
       " ('lx:ps:pt:ge:ge:tkp:vx:sc:cmt:dt:ex:xp:xe:ex:xp:xe', 1),\n",
       " ('lx:rt:ps:pt:ge:ge:ge:tkp:cmt:dt:ex:xp:xe', 1),\n",
       " ('lx:rt:ps:pt:ge:ge:tkp:arg:vx:dt:rdp:ex:xp:xe:ex:xp:xe', 1),\n",
       " ('lx:wf:rt:ps:pt:ge:tkp:eng:dt:ex:xp:xe:ex:xp:xe', 1),\n",
       " ('lx:ps:pt:ge:ge:tkp:dcsv:am:arg:sc:vx:nt:dt:ex:xp:xe:ex:xp:xe', 1),\n",
       " ('lx:ps:pt:ge:tkp:nt:cmt:sa:sc:vx:arg:dt:ex:xp:xe', 1),\n",
       " ('lx:ps:pt:ge:tkp:nt:cmt:sa:sc:vx:dt:ex:xp:xe', 1),\n",
       " ('lx:ps:pt:ge:eng:eng:tkp:vx:sc:dt:ex:xp:xe:ex:xp:xe:ex:xp:xe', 1),\n",
       " ('lx:ps:pt:ge:tkp:pt:cmt:dt:ex:xp:xe', 1),\n",
       " ('lx:ps:pt:ge:tkp:nt:sc:vx:dt:ex:xp:xe:ex:xp:xe', 1),\n",
       " ('lx:ps:pt:ge:ge:tkp:dt:cmt:sc:vx:ex:xp:xe:ex:xp:xe:ex:xp:xe', 1),\n",
       " ('lx:ps:pt:ge:ge:tkp:vx:sc:nt:dt:ex:xp:xe:ex:xp:xe:ex:xp:xe:ex:xp:xe', 1),\n",
       " ('lx:rt:ps:pt:ge:tkp:vx:sc:dt:rdp:ex:xp:xe', 1),\n",
       " ('lx:rt:ps:ge:tkp:cmt:dt:ex:xp:xe', 1),\n",
       " ('lx:rt:ps:pt:ge:ge:tkp:tkp:dt', 1),\n",
       " ('lx:rt:ps:pt:ge:ge:tkp:nt:dt', 1),\n",
       " ('lx:ps:pt:ge:ge:tkp:tkp:eng:eng:dt:ex:xp:xe', 1),\n",
       " ('lx:ps:pt:ge:tkp:dcsv:vx:cmt:dt:ex:xp:xe', 1),\n",
       " ('lx:rt:ps:pt:ge:ge:ge:ge:tkp:tkp:tkp:tkp:dt:ex:xp:xe', 1),\n",
       " ('lx:rt:ps:pt:ge:ge:tkp:tkp:arg:vx:dt:ex:xp:xe:ex:xp:xe:ex:xp:xe:ex:xp:xe',\n",
       "  1),\n",
       " ('lx:rt:ps:pt:ge:eng:tkp:vx:dt:ex:xp:xe', 1),\n",
       " ('lx:rt:ps:pt:ge:eng:tkp:dt:ex:xp:xe', 1),\n",
       " ('lx:rt:ps:pt:ge:eng:eng:tkp:arg:vx:dt:cmt:ex:xp:xe:ex:xp:xe:ex:xp:xe', 1),\n",
       " ('lx:alt:ps:pt:ge:tkp:dt:ex:xp:xe', 1),\n",
       " ('lx:rt:ps:pt:eng:eng:ge:tkp:dt:ex:xp:xe', 1),\n",
       " ('lx:rt:ps:ge:ge:ge:tkp:dt:ex:xp:xe', 1),\n",
       " ('lx:ps:ge:eng:tkp:dt:ex:xp:xe', 1),\n",
       " ('lx:alt:alt:ps:pt:ge:eng:eng:tkp:dt:ex:xp:xe:ex:xp:xe', 1),\n",
       " ('lx:alt:ps:pt:ge:ge:tkp:am:dt:cmt:ex:xp:xe:ex:xp:xe:ex:xp:xe:ex:xp:xe:ex:xp:xe',\n",
       "  1),\n",
       " ('lx:alt:rt:ps:pt:ge:tkp:nt:dt:ex:xp:xe', 1),\n",
       " ('lx:ps:pt:ge:ge:ge:tkp:tkp:dt:ex:xp:xe:ex:xp:xe:ex:xp:xe:ex:xp:xe', 1),\n",
       " ('lx:ps:pt:ge:tkp:eng:eng:cmt:vx:dt:ex:xp:xe:ex:xp:xe', 1),\n",
       " ('lx:ps:pt:ge:ge:tkp:cm:arg:vx:dt:ex:xp:xe:ex:xp:xe', 1),\n",
       " ('lx:ps:pt:ge:tkp:pt:dt:ex:xp:xe:ex:xp:xe', 1),\n",
       " ('lx:rt:ps:pt:ge:tkp:tkp:vx:cmt:dt:ex:xp:xe:ex:xp:xe:ex:xp:xe:ex:xp:xe', 1),\n",
       " ('lx:ps:pt:ge:tkp:arg:vx:nt:dt:ex:xp:xe', 1),\n",
       " ('lx:ps:pt:ge:tkp:tkp:eng:eng:eng:dt:ex:xp:xe', 1),\n",
       " ('lx:ps:pt:ge:eng:eng:tkp:dt:ex:xp:xe', 1),\n",
       " ('lx:rt:ps:pt:ge:tkp:nt:sa:dt', 1),\n",
       " ('lx:ps:ge:ge:tkp:vx:dt:ex:xp:xe:ex:xp:xe', 1),\n",
       " ('lx:ps:pt:ge:tkp:eng:eng:nt:cmt:sa:sf:dt:ex:xp:xe', 1),\n",
       " ('lx:ps:pt:ge:tkp:cmt:dt:vx:ex:xp:xe:ex:xp:xe:ex:xp:xe:ex:xp:xe', 1),\n",
       " ('lx:rt:ps:pt:ge:tkp:vx:cmt:dt:ex:xp:xe', 1),\n",
       " ('lx:ps:pt:ge:ge:tkp:cmt:vx:arg:dt:ex:xp:xe:ex:xp:xe', 1),\n",
       " ('lx:ps:pt:cl:ge:tkp:nt:sa:sf:dt:cmt:ex:xp:xe', 1),\n",
       " ('lx:ps:pt:ge:eng:eng:tkp:vx:sc:dt:ex:xp:xe:ex:xp:xe', 1),\n",
       " ('lx:rt:ps:pt:rdp:ge:ge:tkp:vx:sc:dt:rdp:ex:xp:xe', 1),\n",
       " ('lx:ps:ge:tkp:dt', 1),\n",
       " ('lx:rt:ps:pt:ge:tkp:arg:vx:dt:rdp:ex:xp:xe:ex:xp:xe', 1),\n",
       " ('lx:ps:pt:ge:ge:tkp:tkp:dt:ex:xp:xe', 1),\n",
       " ('lx:rt:ps:pt:ge:ge:tkp:vx:sc:dt:rdp:ex:xp:xe:ex:xp:xe', 1),\n",
       " ('lx:ps:pt:ge:tkp:dt:arg:vx:ex:xp:xe:ex:xp:xe', 1),\n",
       " ('lx:ps:pt:ge:tkp:eng:eng:dt:ex:xp:xe', 1),\n",
       " ('lx:ps:pt:ge:tkp:eng:nt:sa:sf:dt', 1),\n",
       " ('lx:ps:pt:ge:tkp:dt:vx:sc:ex:xp:xe:ex:xp:xe', 1),\n",
       " ('lx:ps:pt:ge:tkp:nt:sa:dt:ex:xp:xe:ex:xp:xe', 1),\n",
       " ('lx:ps:ge:eng:eng:tkp:dcsv:vx:cmt:dt', 1),\n",
       " ('lx:ps:pt:ge:ge:tkp:tkp:cmt:vx:arg:dt:ex:xp:xe:ex:xp:xe:ex:xp:xe', 1),\n",
       " ('lx:rt:ps:pt:ge:ge:tkp:vx:sc:dt:cmt:rdp:ex:xp:xe:ex:xp:xe', 1),\n",
       " ('lx:ps:pt:ge:tkp:nt:cmt:sf:dt:ex:xp:xe:ex:xp:xe', 1),\n",
       " ('lx:rt:ps:pt:ge:tkp:eng:eng:arg:vx:cmt:dt:ex:xp:xe:ex:xp:xe:ex:xp:xe:ex:xp:xe:ex:xp:xe',\n",
       "  1),\n",
       " ('lx:ps:pt:ge:ge:tkp:vx:sc:cmt:dt:cmt:ex:xp:xe', 1),\n",
       " ('lx:ps:ge:ge:tkp:tkp:dt:ex:xp:xe', 1),\n",
       " ('lx:ps:pt:ge:tkp:vx:sc:dt:ex:xp:xe:ex:xp:xe', 1),\n",
       " ('lx:rt:ps:pt:ge:tkp:cmt:dt:cmt:ex:xp:xe:ex:xp:xe:ex:xp:xe:ex:xp:xe', 1),\n",
       " ('lx:rt:ps:pt:ge:ge:tkp:cm:arg:vx:dt:ex:xp:xe:ex:xp:xe:ex:xp:xe:ex:xp:xe', 1),\n",
       " ('lx:ps:pt:ge:tkp:cmt:vx:dt:ex:xp:xe:ex:xp:xe', 1),\n",
       " ('lx:ps:pt:ge:ge:ge:tkp:dt:ex:xp:xe:ex:xp:xe:ex:xp:xe', 1),\n",
       " ('lx:ps:pt:ge:tkp:cmt:arg:vx:dt:ex:xp:xe:ex:xp:xe', 1),\n",
       " ('lx:rt:ps:ge:ge:ge:tkp:dt:ex:xp:xe:ex:xp:xe', 1),\n",
       " ('lx:ps:pt:ge:ge:tkp:eng:eng:cmt:dt:vx:sc:ex:xp:xe:ex:xp:xe', 1),\n",
       " ('lx:ps:pt:ge:tkp:tkp:eng:eng:eng:arg:vx:dt:cmt:ex:xp:xe:ex:xp:xe', 1),\n",
       " ('lx:rt:ps:pt:rdp:ge:ge:tkp:vx:arg:cmt:dt:ex:xp:xe', 1),\n",
       " ('lx:alt:rt:ps:pt:ge:eng:eng:eng:tkp:tkp:sc:dt:ex:xp:xe', 1)]"
      ]
     },
     "execution_count": 58,
     "metadata": {},
     "output_type": "execute_result"
    }
   ],
   "source": [
    "from collections import Counter\n",
    "field_sequences = Counter(':'.join(field.tag for field in entry) for entry in lexicon)\n",
    "field_sequences.most_common()"
   ]
  },
  {
   "cell_type": "code",
   "execution_count": 59,
   "id": "798983c4",
   "metadata": {},
   "outputs": [
    {
     "name": "stdout",
     "output_type": "stream",
     "text": [
      "- lx:ps:ge:tkp:sf:nt:dt:ex:xp:xe:ex:xp:xe:ex:xp:xe\n",
      "- lx:rt:ps:ge:tkp:nt:dt:ex:xp:xe:ex:xp:xe\n",
      "- lx:ps:ge:tkp:nt:dt:ex:xp:xe:ex:xp:xe\n",
      "- lx:ps:ge:tkp:nt:sf:dt\n",
      "- lx:ps:ge:tkp:dt:cmt:ex:xp:xe:ex:xp:xe\n",
      "- lx:ps:ge:ge:ge:tkp:cmt:dt:ex:xp:xe\n",
      "- lx:rt:ps:ge:ge:tkp:dt\n",
      "- lx:rt:ps:ge:eng:eng:eng:ge:tkp:tkp:dt:cmt:ex:xp:xe:ex:xp:xe:ex:xp:xe:ex:xp:xe:ex:xp:xe\n",
      "- lx:rt:ps:ge:tkp:dt:ex:xp:xe\n",
      "- lx:ps:ge:ge:tkp:dt:ex:xp:xe:ex:xp:xe\n"
     ]
    }
   ],
   "source": [
    "grammar = nltk.CFG.fromstring('''\n",
    "  S -> Head PS Glosses Comment Date Sem_Field Examples\n",
    "  Head -> Lexeme Root\n",
    "  Lexeme -> \"lx\"\n",
    "  Root -> \"rt\" |\n",
    "  PS -> \"ps\"\n",
    "  Glosses -> Gloss Glosses |\n",
    "  Gloss -> \"ge\" | \"tkp\" | \"eng\"\n",
    "  Date -> \"dt\"\n",
    "  Sem_Field -> \"sf\"\n",
    "  Examples -> Example Ex_Pidgin Ex_English Examples |\n",
    "  Example -> \"ex\"\n",
    "  Ex_Pidgin -> \"xp\"\n",
    "  Ex_English -> \"xe\"\n",
    "  Comment -> \"cmt\" | \"nt\" |\n",
    "  ''')\n",
    "\n",
    "def validate_lexicon(grammar, lexicon, ignored_tags):\n",
    "    rd_parser = nltk.RecursiveDescentParser(grammar)\n",
    "    for entry in lexicon:\n",
    "        marker_list = [field.tag for field in entry if field.tag not in ignored_tags]\n",
    "        if list(rd_parser.parse(marker_list)):\n",
    "            print(\"+\", ':'.join(marker_list))\n",
    "        else:\n",
    "            print(\"-\", ':'.join(marker_list))\n",
    "\n",
    "lexicon = toolbox.xml('rotokas.dic')[10:20]\n",
    "ignored_tags = ['arg', 'dcsv', 'pt', 'vx']\n",
    "validate_lexicon(grammar, lexicon, ignored_tags)"
   ]
  },
  {
   "cell_type": "code",
   "execution_count": 61,
   "id": "166e5747",
   "metadata": {},
   "outputs": [
    {
     "ename": "TypeError",
     "evalue": "cannot use a string pattern on a bytes-like object",
     "output_type": "error",
     "traceback": [
      "\u001b[1;31m---------------------------------------------------------------------------\u001b[0m",
      "\u001b[1;31mTypeError\u001b[0m                                 Traceback (most recent call last)",
      "\u001b[1;32m<ipython-input-61-bbaea2c3679d>\u001b[0m in \u001b[0;36m<module>\u001b[1;34m\u001b[0m\n\u001b[0;32m     10\u001b[0m \u001b[0mdb\u001b[0m \u001b[1;33m=\u001b[0m \u001b[0mToolboxData\u001b[0m\u001b[1;33m(\u001b[0m\u001b[1;33m)\u001b[0m\u001b[1;33m\u001b[0m\u001b[1;33m\u001b[0m\u001b[0m\n\u001b[0;32m     11\u001b[0m \u001b[0mdb\u001b[0m\u001b[1;33m.\u001b[0m\u001b[0mopen\u001b[0m\u001b[1;33m(\u001b[0m\u001b[0mnltk\u001b[0m\u001b[1;33m.\u001b[0m\u001b[0mdata\u001b[0m\u001b[1;33m.\u001b[0m\u001b[0mfind\u001b[0m\u001b[1;33m(\u001b[0m\u001b[1;34m'corpora/toolbox/iu_mien_samp.db'\u001b[0m\u001b[1;33m)\u001b[0m\u001b[1;33m)\u001b[0m\u001b[1;33m\u001b[0m\u001b[1;33m\u001b[0m\u001b[0m\n\u001b[1;32m---> 12\u001b[1;33m \u001b[0mlexicon\u001b[0m \u001b[1;33m=\u001b[0m \u001b[0mdb\u001b[0m\u001b[1;33m.\u001b[0m\u001b[0mparse\u001b[0m\u001b[1;33m(\u001b[0m\u001b[0mgrammar\u001b[0m\u001b[1;33m,\u001b[0m \u001b[0mencoding\u001b[0m\u001b[1;33m=\u001b[0m\u001b[1;34m'utf8'\u001b[0m\u001b[1;33m)\u001b[0m\u001b[1;33m\u001b[0m\u001b[1;33m\u001b[0m\u001b[0m\n\u001b[0m\u001b[0;32m     13\u001b[0m \u001b[0mtree\u001b[0m \u001b[1;33m=\u001b[0m \u001b[0mElementTree\u001b[0m\u001b[1;33m(\u001b[0m\u001b[0mlexicon\u001b[0m\u001b[1;33m)\u001b[0m\u001b[1;33m\u001b[0m\u001b[1;33m\u001b[0m\u001b[0m\n\u001b[0;32m     14\u001b[0m \u001b[1;32mwith\u001b[0m \u001b[0mopen\u001b[0m\u001b[1;33m(\u001b[0m\u001b[1;34m\"iu_mien_samp.xml\"\u001b[0m\u001b[1;33m,\u001b[0m \u001b[1;34m\"wb\"\u001b[0m\u001b[1;33m)\u001b[0m \u001b[1;32mas\u001b[0m \u001b[0moutput\u001b[0m\u001b[1;33m:\u001b[0m\u001b[1;33m\u001b[0m\u001b[1;33m\u001b[0m\u001b[0m\n",
      "\u001b[1;32mC:\\ProgramData\\Anaconda3\\lib\\site-packages\\nltk\\toolbox.py\u001b[0m in \u001b[0;36mparse\u001b[1;34m(self, grammar, **kwargs)\u001b[0m\n\u001b[0;32m    144\u001b[0m     \u001b[1;32mdef\u001b[0m \u001b[0mparse\u001b[0m\u001b[1;33m(\u001b[0m\u001b[0mself\u001b[0m\u001b[1;33m,\u001b[0m \u001b[0mgrammar\u001b[0m\u001b[1;33m=\u001b[0m\u001b[1;32mNone\u001b[0m\u001b[1;33m,\u001b[0m \u001b[1;33m**\u001b[0m\u001b[0mkwargs\u001b[0m\u001b[1;33m)\u001b[0m\u001b[1;33m:\u001b[0m\u001b[1;33m\u001b[0m\u001b[1;33m\u001b[0m\u001b[0m\n\u001b[0;32m    145\u001b[0m         \u001b[1;32mif\u001b[0m \u001b[0mgrammar\u001b[0m\u001b[1;33m:\u001b[0m\u001b[1;33m\u001b[0m\u001b[1;33m\u001b[0m\u001b[0m\n\u001b[1;32m--> 146\u001b[1;33m             \u001b[1;32mreturn\u001b[0m \u001b[0mself\u001b[0m\u001b[1;33m.\u001b[0m\u001b[0m_chunk_parse\u001b[0m\u001b[1;33m(\u001b[0m\u001b[0mgrammar\u001b[0m\u001b[1;33m=\u001b[0m\u001b[0mgrammar\u001b[0m\u001b[1;33m,\u001b[0m \u001b[1;33m**\u001b[0m\u001b[0mkwargs\u001b[0m\u001b[1;33m)\u001b[0m\u001b[1;33m\u001b[0m\u001b[1;33m\u001b[0m\u001b[0m\n\u001b[0m\u001b[0;32m    147\u001b[0m         \u001b[1;32melse\u001b[0m\u001b[1;33m:\u001b[0m\u001b[1;33m\u001b[0m\u001b[1;33m\u001b[0m\u001b[0m\n\u001b[0;32m    148\u001b[0m             \u001b[1;32mreturn\u001b[0m \u001b[0mself\u001b[0m\u001b[1;33m.\u001b[0m\u001b[0m_record_parse\u001b[0m\u001b[1;33m(\u001b[0m\u001b[1;33m**\u001b[0m\u001b[0mkwargs\u001b[0m\u001b[1;33m)\u001b[0m\u001b[1;33m\u001b[0m\u001b[1;33m\u001b[0m\u001b[0m\n",
      "\u001b[1;32mC:\\ProgramData\\Anaconda3\\lib\\site-packages\\nltk\\toolbox.py\u001b[0m in \u001b[0;36m_chunk_parse\u001b[1;34m(self, grammar, root_label, trace, **kwargs)\u001b[0m\n\u001b[0;32m    261\u001b[0m \u001b[1;33m\u001b[0m\u001b[0m\n\u001b[0;32m    262\u001b[0m         \u001b[0mcp\u001b[0m \u001b[1;33m=\u001b[0m \u001b[0mchunk\u001b[0m\u001b[1;33m.\u001b[0m\u001b[0mRegexpParser\u001b[0m\u001b[1;33m(\u001b[0m\u001b[0mgrammar\u001b[0m\u001b[1;33m,\u001b[0m \u001b[0mroot_label\u001b[0m\u001b[1;33m=\u001b[0m\u001b[0mroot_label\u001b[0m\u001b[1;33m,\u001b[0m \u001b[0mtrace\u001b[0m\u001b[1;33m=\u001b[0m\u001b[0mtrace\u001b[0m\u001b[1;33m)\u001b[0m\u001b[1;33m\u001b[0m\u001b[1;33m\u001b[0m\u001b[0m\n\u001b[1;32m--> 263\u001b[1;33m         \u001b[0mdb\u001b[0m \u001b[1;33m=\u001b[0m \u001b[0mself\u001b[0m\u001b[1;33m.\u001b[0m\u001b[0mparse\u001b[0m\u001b[1;33m(\u001b[0m\u001b[1;33m**\u001b[0m\u001b[0mkwargs\u001b[0m\u001b[1;33m)\u001b[0m\u001b[1;33m\u001b[0m\u001b[1;33m\u001b[0m\u001b[0m\n\u001b[0m\u001b[0;32m    264\u001b[0m         \u001b[0mtb_etree\u001b[0m \u001b[1;33m=\u001b[0m \u001b[0mElement\u001b[0m\u001b[1;33m(\u001b[0m\u001b[1;34m\"toolbox_data\"\u001b[0m\u001b[1;33m)\u001b[0m\u001b[1;33m\u001b[0m\u001b[1;33m\u001b[0m\u001b[0m\n\u001b[0;32m    265\u001b[0m         \u001b[0mheader\u001b[0m \u001b[1;33m=\u001b[0m \u001b[0mdb\u001b[0m\u001b[1;33m.\u001b[0m\u001b[0mfind\u001b[0m\u001b[1;33m(\u001b[0m\u001b[1;34m\"header\"\u001b[0m\u001b[1;33m)\u001b[0m\u001b[1;33m\u001b[0m\u001b[1;33m\u001b[0m\u001b[0m\n",
      "\u001b[1;32mC:\\ProgramData\\Anaconda3\\lib\\site-packages\\nltk\\toolbox.py\u001b[0m in \u001b[0;36mparse\u001b[1;34m(self, grammar, **kwargs)\u001b[0m\n\u001b[0;32m    146\u001b[0m             \u001b[1;32mreturn\u001b[0m \u001b[0mself\u001b[0m\u001b[1;33m.\u001b[0m\u001b[0m_chunk_parse\u001b[0m\u001b[1;33m(\u001b[0m\u001b[0mgrammar\u001b[0m\u001b[1;33m=\u001b[0m\u001b[0mgrammar\u001b[0m\u001b[1;33m,\u001b[0m \u001b[1;33m**\u001b[0m\u001b[0mkwargs\u001b[0m\u001b[1;33m)\u001b[0m\u001b[1;33m\u001b[0m\u001b[1;33m\u001b[0m\u001b[0m\n\u001b[0;32m    147\u001b[0m         \u001b[1;32melse\u001b[0m\u001b[1;33m:\u001b[0m\u001b[1;33m\u001b[0m\u001b[1;33m\u001b[0m\u001b[0m\n\u001b[1;32m--> 148\u001b[1;33m             \u001b[1;32mreturn\u001b[0m \u001b[0mself\u001b[0m\u001b[1;33m.\u001b[0m\u001b[0m_record_parse\u001b[0m\u001b[1;33m(\u001b[0m\u001b[1;33m**\u001b[0m\u001b[0mkwargs\u001b[0m\u001b[1;33m)\u001b[0m\u001b[1;33m\u001b[0m\u001b[1;33m\u001b[0m\u001b[0m\n\u001b[0m\u001b[0;32m    149\u001b[0m \u001b[1;33m\u001b[0m\u001b[0m\n\u001b[0;32m    150\u001b[0m     \u001b[1;32mdef\u001b[0m \u001b[0m_record_parse\u001b[0m\u001b[1;33m(\u001b[0m\u001b[0mself\u001b[0m\u001b[1;33m,\u001b[0m \u001b[0mkey\u001b[0m\u001b[1;33m=\u001b[0m\u001b[1;32mNone\u001b[0m\u001b[1;33m,\u001b[0m \u001b[1;33m**\u001b[0m\u001b[0mkwargs\u001b[0m\u001b[1;33m)\u001b[0m\u001b[1;33m:\u001b[0m\u001b[1;33m\u001b[0m\u001b[1;33m\u001b[0m\u001b[0m\n",
      "\u001b[1;32mC:\\ProgramData\\Anaconda3\\lib\\site-packages\\nltk\\toolbox.py\u001b[0m in \u001b[0;36m_record_parse\u001b[1;34m(self, key, **kwargs)\u001b[0m\n\u001b[0;32m    204\u001b[0m         \u001b[0mbuilder\u001b[0m\u001b[1;33m.\u001b[0m\u001b[0mstart\u001b[0m\u001b[1;33m(\u001b[0m\u001b[1;34m\"header\"\u001b[0m\u001b[1;33m,\u001b[0m \u001b[1;33m{\u001b[0m\u001b[1;33m}\u001b[0m\u001b[1;33m)\u001b[0m\u001b[1;33m\u001b[0m\u001b[1;33m\u001b[0m\u001b[0m\n\u001b[0;32m    205\u001b[0m         \u001b[0min_records\u001b[0m \u001b[1;33m=\u001b[0m \u001b[1;32mFalse\u001b[0m\u001b[1;33m\u001b[0m\u001b[1;33m\u001b[0m\u001b[0m\n\u001b[1;32m--> 206\u001b[1;33m         \u001b[1;32mfor\u001b[0m \u001b[0mmkr\u001b[0m\u001b[1;33m,\u001b[0m \u001b[0mvalue\u001b[0m \u001b[1;32min\u001b[0m \u001b[0mself\u001b[0m\u001b[1;33m.\u001b[0m\u001b[0mfields\u001b[0m\u001b[1;33m(\u001b[0m\u001b[1;33m**\u001b[0m\u001b[0mkwargs\u001b[0m\u001b[1;33m)\u001b[0m\u001b[1;33m:\u001b[0m\u001b[1;33m\u001b[0m\u001b[1;33m\u001b[0m\u001b[0m\n\u001b[0m\u001b[0;32m    207\u001b[0m             \u001b[1;32mif\u001b[0m \u001b[0mkey\u001b[0m \u001b[1;32mis\u001b[0m \u001b[1;32mNone\u001b[0m \u001b[1;32mand\u001b[0m \u001b[1;32mnot\u001b[0m \u001b[0min_records\u001b[0m \u001b[1;32mand\u001b[0m \u001b[0mmkr\u001b[0m\u001b[1;33m[\u001b[0m\u001b[1;36m0\u001b[0m\u001b[1;33m]\u001b[0m \u001b[1;33m!=\u001b[0m \u001b[1;34m\"_\"\u001b[0m\u001b[1;33m:\u001b[0m\u001b[1;33m\u001b[0m\u001b[1;33m\u001b[0m\u001b[0m\n\u001b[0;32m    208\u001b[0m                 \u001b[0mkey\u001b[0m \u001b[1;33m=\u001b[0m \u001b[0mmkr\u001b[0m\u001b[1;33m\u001b[0m\u001b[1;33m\u001b[0m\u001b[0m\n",
      "\u001b[1;32mC:\\ProgramData\\Anaconda3\\lib\\site-packages\\nltk\\toolbox.py\u001b[0m in \u001b[0;36mfields\u001b[1;34m(self, strip, unwrap, encoding, errors, unicode_fields)\u001b[0m\n\u001b[0;32m    125\u001b[0m             \u001b[1;32mraise\u001b[0m \u001b[0mValueError\u001b[0m\u001b[1;33m(\u001b[0m\u001b[1;34m\"unicode_fields is set but not encoding.\"\u001b[0m\u001b[1;33m)\u001b[0m\u001b[1;33m\u001b[0m\u001b[1;33m\u001b[0m\u001b[0m\n\u001b[0;32m    126\u001b[0m         \u001b[0munwrap_pat\u001b[0m \u001b[1;33m=\u001b[0m \u001b[0mre\u001b[0m\u001b[1;33m.\u001b[0m\u001b[0mcompile\u001b[0m\u001b[1;33m(\u001b[0m\u001b[1;34mr\"\\n+\"\u001b[0m\u001b[1;33m)\u001b[0m\u001b[1;33m\u001b[0m\u001b[1;33m\u001b[0m\u001b[0m\n\u001b[1;32m--> 127\u001b[1;33m         \u001b[1;32mfor\u001b[0m \u001b[0mmkr\u001b[0m\u001b[1;33m,\u001b[0m \u001b[0mval\u001b[0m \u001b[1;32min\u001b[0m \u001b[0mself\u001b[0m\u001b[1;33m.\u001b[0m\u001b[0mraw_fields\u001b[0m\u001b[1;33m(\u001b[0m\u001b[1;33m)\u001b[0m\u001b[1;33m:\u001b[0m\u001b[1;33m\u001b[0m\u001b[1;33m\u001b[0m\u001b[0m\n\u001b[0m\u001b[0;32m    128\u001b[0m             \u001b[1;32mif\u001b[0m \u001b[0munwrap\u001b[0m\u001b[1;33m:\u001b[0m\u001b[1;33m\u001b[0m\u001b[1;33m\u001b[0m\u001b[0m\n\u001b[0;32m    129\u001b[0m                 \u001b[0mval\u001b[0m \u001b[1;33m=\u001b[0m \u001b[0munwrap_pat\u001b[0m\u001b[1;33m.\u001b[0m\u001b[0msub\u001b[0m\u001b[1;33m(\u001b[0m\u001b[1;34m\" \"\u001b[0m\u001b[1;33m,\u001b[0m \u001b[0mval\u001b[0m\u001b[1;33m)\u001b[0m\u001b[1;33m\u001b[0m\u001b[1;33m\u001b[0m\u001b[0m\n",
      "\u001b[1;32mC:\\ProgramData\\Anaconda3\\lib\\site-packages\\nltk\\toolbox.py\u001b[0m in \u001b[0;36mraw_fields\u001b[1;34m(self)\u001b[0m\n\u001b[0;32m     74\u001b[0m             \u001b[1;31m# no more data is available, terminate the generator\u001b[0m\u001b[1;33m\u001b[0m\u001b[1;33m\u001b[0m\u001b[1;33m\u001b[0m\u001b[0m\n\u001b[0;32m     75\u001b[0m             \u001b[1;32mreturn\u001b[0m\u001b[1;33m\u001b[0m\u001b[1;33m\u001b[0m\u001b[0m\n\u001b[1;32m---> 76\u001b[1;33m         \u001b[0mmobj\u001b[0m \u001b[1;33m=\u001b[0m \u001b[0mre\u001b[0m\u001b[1;33m.\u001b[0m\u001b[0mmatch\u001b[0m\u001b[1;33m(\u001b[0m\u001b[0mfirst_line_pat\u001b[0m\u001b[1;33m,\u001b[0m \u001b[0mline\u001b[0m\u001b[1;33m)\u001b[0m\u001b[1;33m\u001b[0m\u001b[1;33m\u001b[0m\u001b[0m\n\u001b[0m\u001b[0;32m     77\u001b[0m         \u001b[0mmkr\u001b[0m\u001b[1;33m,\u001b[0m \u001b[0mline_value\u001b[0m \u001b[1;33m=\u001b[0m \u001b[0mmobj\u001b[0m\u001b[1;33m.\u001b[0m\u001b[0mgroups\u001b[0m\u001b[1;33m(\u001b[0m\u001b[1;33m)\u001b[0m\u001b[1;33m\u001b[0m\u001b[1;33m\u001b[0m\u001b[0m\n\u001b[0;32m     78\u001b[0m         \u001b[0mvalue_lines\u001b[0m \u001b[1;33m=\u001b[0m \u001b[1;33m[\u001b[0m\u001b[0mline_value\u001b[0m\u001b[1;33m]\u001b[0m\u001b[1;33m\u001b[0m\u001b[1;33m\u001b[0m\u001b[0m\n",
      "\u001b[1;32mC:\\ProgramData\\Anaconda3\\lib\\re.py\u001b[0m in \u001b[0;36mmatch\u001b[1;34m(pattern, string, flags)\u001b[0m\n\u001b[0;32m    189\u001b[0m     \"\"\"Try to apply the pattern at the start of the string, returning\n\u001b[0;32m    190\u001b[0m     a Match object, or None if no match was found.\"\"\"\n\u001b[1;32m--> 191\u001b[1;33m     \u001b[1;32mreturn\u001b[0m \u001b[0m_compile\u001b[0m\u001b[1;33m(\u001b[0m\u001b[0mpattern\u001b[0m\u001b[1;33m,\u001b[0m \u001b[0mflags\u001b[0m\u001b[1;33m)\u001b[0m\u001b[1;33m.\u001b[0m\u001b[0mmatch\u001b[0m\u001b[1;33m(\u001b[0m\u001b[0mstring\u001b[0m\u001b[1;33m)\u001b[0m\u001b[1;33m\u001b[0m\u001b[1;33m\u001b[0m\u001b[0m\n\u001b[0m\u001b[0;32m    192\u001b[0m \u001b[1;33m\u001b[0m\u001b[0m\n\u001b[0;32m    193\u001b[0m \u001b[1;32mdef\u001b[0m \u001b[0mfullmatch\u001b[0m\u001b[1;33m(\u001b[0m\u001b[0mpattern\u001b[0m\u001b[1;33m,\u001b[0m \u001b[0mstring\u001b[0m\u001b[1;33m,\u001b[0m \u001b[0mflags\u001b[0m\u001b[1;33m=\u001b[0m\u001b[1;36m0\u001b[0m\u001b[1;33m)\u001b[0m\u001b[1;33m:\u001b[0m\u001b[1;33m\u001b[0m\u001b[1;33m\u001b[0m\u001b[0m\n",
      "\u001b[1;31mTypeError\u001b[0m: cannot use a string pattern on a bytes-like object"
     ]
    }
   ],
   "source": [
    "grammar = r\"\"\"\n",
    "      lexfunc: {<lf>(<lv><ln|le>*)*}\n",
    "      example: {<rf|xv><xn|xe>*}\n",
    "      sense:   {<sn><ps><pn|gv|dv|gn|gp|dn|rn|ge|de|re>*<example>*<lexfunc>*}\n",
    "      record:   {<lx><hm><sense>+<dt>}\n",
    "\"\"\"\n",
    "\n",
    "from xml.etree.ElementTree import ElementTree\n",
    "from nltk.toolbox import ToolboxData\n",
    "db = ToolboxData()\n",
    "db.open(nltk.data.find('corpora/toolbox/iu_mien_samp.db'))\n",
    "lexicon = db.parse(grammar, encoding='utf8')\n",
    "tree = ElementTree(lexicon)\n",
    "with open(\"iu_mien_samp.xml\", \"wb\") as output:\n",
    "    tree.write(output)"
   ]
  },
  {
   "cell_type": "markdown",
   "id": "318a3925",
   "metadata": {},
   "source": [
    "# 6   Describing Language Resources using OLAC Metadata"
   ]
  },
  {
   "cell_type": "markdown",
   "id": "91c7e6bc",
   "metadata": {},
   "source": [
    "## 6.2   OLAC: Open Language Archives Community"
   ]
  },
  {
   "cell_type": "markdown",
   "id": "938993f8",
   "metadata": {},
   "source": [
    "## 6.3   Disseminating Language Resources"
   ]
  },
  {
   "cell_type": "code",
   "execution_count": null,
   "id": "c1a43393",
   "metadata": {},
   "outputs": [],
   "source": []
  }
 ],
 "metadata": {
  "kernelspec": {
   "display_name": "Python 3",
   "language": "python",
   "name": "python3"
  },
  "language_info": {
   "codemirror_mode": {
    "name": "ipython",
    "version": 3
   },
   "file_extension": ".py",
   "mimetype": "text/x-python",
   "name": "python",
   "nbconvert_exporter": "python",
   "pygments_lexer": "ipython3",
   "version": "3.8.8"
  }
 },
 "nbformat": 4,
 "nbformat_minor": 5
}
